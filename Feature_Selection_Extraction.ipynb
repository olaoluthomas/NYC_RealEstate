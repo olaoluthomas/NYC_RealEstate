{
 "cells": [
  {
   "cell_type": "code",
   "execution_count": 1,
   "metadata": {
    "collapsed": true
   },
   "outputs": [],
   "source": [
    "import pandas as pd\n",
    "import numpy as np\n",
    "import matplotlib.pyplot as plt"
   ]
  },
  {
   "cell_type": "code",
   "execution_count": 2,
   "metadata": {
    "collapsed": true
   },
   "outputs": [],
   "source": [
    "%matplotlib inline"
   ]
  },
  {
   "cell_type": "code",
   "execution_count": 3,
   "metadata": {},
   "outputs": [
    {
     "data": {
      "text/html": [
       "<div>\n",
       "<style>\n",
       "    .dataframe thead tr:only-child th {\n",
       "        text-align: right;\n",
       "    }\n",
       "\n",
       "    .dataframe thead th {\n",
       "        text-align: left;\n",
       "    }\n",
       "\n",
       "    .dataframe tbody tr th {\n",
       "        vertical-align: top;\n",
       "    }\n",
       "</style>\n",
       "<table border=\"1\" class=\"dataframe\">\n",
       "  <thead>\n",
       "    <tr style=\"text-align: right;\">\n",
       "      <th></th>\n",
       "      <th>address</th>\n",
       "      <th>area</th>\n",
       "      <th>baths</th>\n",
       "      <th>beds</th>\n",
       "      <th>buildingtype</th>\n",
       "      <th>latitude</th>\n",
       "      <th>longitude</th>\n",
       "      <th>neighborhood</th>\n",
       "      <th>price</th>\n",
       "      <th>borough</th>\n",
       "      <th>pricearea</th>\n",
       "      <th>coastdist</th>\n",
       "    </tr>\n",
       "  </thead>\n",
       "  <tbody>\n",
       "    <tr>\n",
       "      <th>0</th>\n",
       "      <td>56 Walker Street #2</td>\n",
       "      <td>2670</td>\n",
       "      <td>3.5</td>\n",
       "      <td>3.0</td>\n",
       "      <td>Condo</td>\n",
       "      <td>40.719002</td>\n",
       "      <td>-74.003197</td>\n",
       "      <td>Tribeca</td>\n",
       "      <td>5600000.0</td>\n",
       "      <td>manhattan</td>\n",
       "      <td>2097.378277</td>\n",
       "      <td>746.610278</td>\n",
       "    </tr>\n",
       "    <tr>\n",
       "      <th>1</th>\n",
       "      <td>201 East 62nd Street #5A</td>\n",
       "      <td>2240</td>\n",
       "      <td>3.5</td>\n",
       "      <td>3.0</td>\n",
       "      <td>Co-op</td>\n",
       "      <td>40.763500</td>\n",
       "      <td>-73.964798</td>\n",
       "      <td>Lenox Hill</td>\n",
       "      <td>2595000.0</td>\n",
       "      <td>manhattan</td>\n",
       "      <td>1158.482143</td>\n",
       "      <td>501.933846</td>\n",
       "    </tr>\n",
       "    <tr>\n",
       "      <th>2</th>\n",
       "      <td>333 West 56th Street #2</td>\n",
       "      <td>820</td>\n",
       "      <td>1.0</td>\n",
       "      <td>1.0</td>\n",
       "      <td>Condo</td>\n",
       "      <td>40.766998</td>\n",
       "      <td>-73.984901</td>\n",
       "      <td>Hell's Kitchen</td>\n",
       "      <td>995000.0</td>\n",
       "      <td>manhattan</td>\n",
       "      <td>1213.414634</td>\n",
       "      <td>598.449219</td>\n",
       "    </tr>\n",
       "    <tr>\n",
       "      <th>3</th>\n",
       "      <td>330 East 38th Street #20P</td>\n",
       "      <td>884</td>\n",
       "      <td>1.5</td>\n",
       "      <td>1.0</td>\n",
       "      <td>Condo</td>\n",
       "      <td>40.746300</td>\n",
       "      <td>-73.972702</td>\n",
       "      <td>Murray Hill</td>\n",
       "      <td>1225000.0</td>\n",
       "      <td>manhattan</td>\n",
       "      <td>1385.746606</td>\n",
       "      <td>257.252040</td>\n",
       "    </tr>\n",
       "    <tr>\n",
       "      <th>4</th>\n",
       "      <td>322 West 57th Street #55U</td>\n",
       "      <td>1599</td>\n",
       "      <td>2.0</td>\n",
       "      <td>2.0</td>\n",
       "      <td>Condo</td>\n",
       "      <td>40.766800</td>\n",
       "      <td>-73.984200</td>\n",
       "      <td>Hell's Kitchen</td>\n",
       "      <td>4595000.0</td>\n",
       "      <td>manhattan</td>\n",
       "      <td>2873.671044</td>\n",
       "      <td>647.078718</td>\n",
       "    </tr>\n",
       "  </tbody>\n",
       "</table>\n",
       "</div>"
      ],
      "text/plain": [
       "                     address  area  baths  beds buildingtype   latitude  \\\n",
       "0        56 Walker Street #2  2670    3.5   3.0        Condo  40.719002   \n",
       "1   201 East 62nd Street #5A  2240    3.5   3.0        Co-op  40.763500   \n",
       "2    333 West 56th Street #2   820    1.0   1.0        Condo  40.766998   \n",
       "3  330 East 38th Street #20P   884    1.5   1.0        Condo  40.746300   \n",
       "4  322 West 57th Street #55U  1599    2.0   2.0        Condo  40.766800   \n",
       "\n",
       "   longitude    neighborhood      price    borough    pricearea   coastdist  \n",
       "0 -74.003197         Tribeca  5600000.0  manhattan  2097.378277  746.610278  \n",
       "1 -73.964798      Lenox Hill  2595000.0  manhattan  1158.482143  501.933846  \n",
       "2 -73.984901  Hell's Kitchen   995000.0  manhattan  1213.414634  598.449219  \n",
       "3 -73.972702     Murray Hill  1225000.0  manhattan  1385.746606  257.252040  \n",
       "4 -73.984200  Hell's Kitchen  4595000.0  manhattan  2873.671044  647.078718  "
      ]
     },
     "execution_count": 3,
     "metadata": {},
     "output_type": "execute_result"
    }
   ],
   "source": [
    "df = pd.read_csv(\"data2.csv\")\n",
    "df.head()"
   ]
  },
  {
   "cell_type": "code",
   "execution_count": 4,
   "metadata": {},
   "outputs": [
    {
     "data": {
      "text/html": [
       "<div>\n",
       "<style>\n",
       "    .dataframe thead tr:only-child th {\n",
       "        text-align: right;\n",
       "    }\n",
       "\n",
       "    .dataframe thead th {\n",
       "        text-align: left;\n",
       "    }\n",
       "\n",
       "    .dataframe tbody tr th {\n",
       "        vertical-align: top;\n",
       "    }\n",
       "</style>\n",
       "<table border=\"1\" class=\"dataframe\">\n",
       "  <thead>\n",
       "    <tr style=\"text-align: right;\">\n",
       "      <th></th>\n",
       "      <th>address</th>\n",
       "      <th>area</th>\n",
       "      <th>baths</th>\n",
       "      <th>beds</th>\n",
       "      <th>buildingtype</th>\n",
       "      <th>latitude</th>\n",
       "      <th>longitude</th>\n",
       "      <th>neighborhood</th>\n",
       "      <th>price</th>\n",
       "      <th>borough</th>\n",
       "      <th>pricearea</th>\n",
       "      <th>coastdist</th>\n",
       "    </tr>\n",
       "  </thead>\n",
       "  <tbody>\n",
       "    <tr>\n",
       "      <th>15293</th>\n",
       "      <td>11-02 49th Avenue #10N</td>\n",
       "      <td>737</td>\n",
       "      <td>1.0</td>\n",
       "      <td>1.0</td>\n",
       "      <td>Condo</td>\n",
       "      <td>40.742298</td>\n",
       "      <td>-73.950996</td>\n",
       "      <td>Hunters Point</td>\n",
       "      <td>540000.0</td>\n",
       "      <td>queens</td>\n",
       "      <td>732.700136</td>\n",
       "      <td>355.071297</td>\n",
       "    </tr>\n",
       "    <tr>\n",
       "      <th>15294</th>\n",
       "      <td>50-09 2nd Street #608</td>\n",
       "      <td>1186</td>\n",
       "      <td>1.5</td>\n",
       "      <td>1.0</td>\n",
       "      <td>Condo</td>\n",
       "      <td>40.742901</td>\n",
       "      <td>-73.957901</td>\n",
       "      <td>Hunters Point</td>\n",
       "      <td>1010000.0</td>\n",
       "      <td>queens</td>\n",
       "      <td>851.602024</td>\n",
       "      <td>76.061822</td>\n",
       "    </tr>\n",
       "    <tr>\n",
       "      <th>15295</th>\n",
       "      <td>11-02 49th Avenue #3N</td>\n",
       "      <td>737</td>\n",
       "      <td>1.0</td>\n",
       "      <td>1.0</td>\n",
       "      <td>Condo</td>\n",
       "      <td>40.742298</td>\n",
       "      <td>-73.950996</td>\n",
       "      <td>Hunters Point</td>\n",
       "      <td>450000.0</td>\n",
       "      <td>queens</td>\n",
       "      <td>610.583446</td>\n",
       "      <td>355.071297</td>\n",
       "    </tr>\n",
       "    <tr>\n",
       "      <th>15296</th>\n",
       "      <td>11-02 49th Avenue #4D</td>\n",
       "      <td>1198</td>\n",
       "      <td>2.0</td>\n",
       "      <td>2.0</td>\n",
       "      <td>Condo</td>\n",
       "      <td>40.742298</td>\n",
       "      <td>-73.950996</td>\n",
       "      <td>Hunters Point</td>\n",
       "      <td>845000.0</td>\n",
       "      <td>queens</td>\n",
       "      <td>705.342237</td>\n",
       "      <td>355.071297</td>\n",
       "    </tr>\n",
       "    <tr>\n",
       "      <th>15297</th>\n",
       "      <td>120 Fifth Avenue #12F</td>\n",
       "      <td>3200</td>\n",
       "      <td>4.0</td>\n",
       "      <td>7.0</td>\n",
       "      <td>Condo</td>\n",
       "      <td>40.794102</td>\n",
       "      <td>-73.825996</td>\n",
       "      <td>Malba</td>\n",
       "      <td>995000.0</td>\n",
       "      <td>queens</td>\n",
       "      <td>310.937500</td>\n",
       "      <td>116.533915</td>\n",
       "    </tr>\n",
       "  </tbody>\n",
       "</table>\n",
       "</div>"
      ],
      "text/plain": [
       "                      address  area  baths  beds buildingtype   latitude  \\\n",
       "15293  11-02 49th Avenue #10N   737    1.0   1.0        Condo  40.742298   \n",
       "15294   50-09 2nd Street #608  1186    1.5   1.0        Condo  40.742901   \n",
       "15295   11-02 49th Avenue #3N   737    1.0   1.0        Condo  40.742298   \n",
       "15296   11-02 49th Avenue #4D  1198    2.0   2.0        Condo  40.742298   \n",
       "15297   120 Fifth Avenue #12F  3200    4.0   7.0        Condo  40.794102   \n",
       "\n",
       "       longitude   neighborhood      price borough   pricearea   coastdist  \n",
       "15293 -73.950996  Hunters Point   540000.0  queens  732.700136  355.071297  \n",
       "15294 -73.957901  Hunters Point  1010000.0  queens  851.602024   76.061822  \n",
       "15295 -73.950996  Hunters Point   450000.0  queens  610.583446  355.071297  \n",
       "15296 -73.950996  Hunters Point   845000.0  queens  705.342237  355.071297  \n",
       "15297 -73.825996          Malba   995000.0  queens  310.937500  116.533915  "
      ]
     },
     "execution_count": 4,
     "metadata": {},
     "output_type": "execute_result"
    }
   ],
   "source": [
    "df.tail()"
   ]
  },
  {
   "cell_type": "code",
   "execution_count": 5,
   "metadata": {},
   "outputs": [
    {
     "data": {
      "text/plain": [
       "longitude   -0.218206\n",
       "coastdist   -0.191850\n",
       "latitude     0.100591\n",
       "beds         0.293536\n",
       "area         0.528461\n",
       "baths        0.561565\n",
       "pricearea    0.742735\n",
       "price        1.000000\n",
       "Name: price, dtype: float64"
      ]
     },
     "execution_count": 5,
     "metadata": {},
     "output_type": "execute_result"
    }
   ],
   "source": [
    "corr_matrix = df.corr()\n",
    "corr_matrix['price'].sort_values(ascending=True)"
   ]
  },
  {
   "cell_type": "code",
   "execution_count": 6,
   "metadata": {},
   "outputs": [
    {
     "name": "stdout",
     "output_type": "stream",
     "text": [
      "285\n"
     ]
    },
    {
     "data": {
      "text/plain": [
       "10"
      ]
     },
     "execution_count": 6,
     "metadata": {},
     "output_type": "execute_result"
    }
   ],
   "source": [
    "print len(df.neighborhood.unique())\n",
    "len(df.buildingtype.unique())"
   ]
  },
  {
   "cell_type": "markdown",
   "metadata": {},
   "source": [
    "**We have 285 unique neighborhoods & 10 unique building types. What relevance will neighborhood have to the accuracy of our model? Some neighborhoods will definitely be highbrow and thus command higher price... What's the best way to encode the data in this column? Dummy variables? One-hot encoding?**"
   ]
  },
  {
   "cell_type": "code",
   "execution_count": null,
   "metadata": {
    "collapsed": true
   },
   "outputs": [],
   "source": []
  }
 ],
 "metadata": {
  "kernelspec": {
   "display_name": "Python 2",
   "language": "python",
   "name": "python2"
  },
  "language_info": {
   "codemirror_mode": {
    "name": "ipython",
    "version": 2
   },
   "file_extension": ".py",
   "mimetype": "text/x-python",
   "name": "python",
   "nbconvert_exporter": "python",
   "pygments_lexer": "ipython2",
   "version": "2.7.13"
  }
 },
 "nbformat": 4,
 "nbformat_minor": 2
}
