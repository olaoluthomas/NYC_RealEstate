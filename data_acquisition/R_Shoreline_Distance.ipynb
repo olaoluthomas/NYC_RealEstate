{
 "cells": [
  {
   "cell_type": "markdown",
   "metadata": {},
   "source": [
    "***First time using R with Jupyter; first time using R in months... This should be fun...***\n",
    "\n",
    "**Reference:** https://stackoverflow.com/questions/27697504/ocean-latitude-longitude-point-distance-from-shore"
   ]
  },
  {
   "cell_type": "code",
   "execution_count": null,
   "metadata": {
    "collapsed": true
   },
   "outputs": [],
   "source": [
    "#' @importFrom methods setClass setGeneric setMethod setRefClass"
   ]
  },
  {
   "cell_type": "code",
   "execution_count": null,
   "metadata": {
    "collapsed": true
   },
   "outputs": [],
   "source": [
    "# is.installed  <- function(mypkg) is.element(mypkg, installed.packages()[,1])\n",
    "# is.installed('rgdal')"
   ]
  },
  {
   "cell_type": "code",
   "execution_count": null,
   "metadata": {
    "collapsed": true
   },
   "outputs": [],
   "source": [
    "# install.packages('installr', 'C:/Users/Laolu/Anaconda2/envs/py27/R/library', repos='http://cran.rstudio.com/')"
   ]
  },
  {
   "cell_type": "code",
   "execution_count": 1,
   "metadata": {},
   "outputs": [
    {
     "data": {
      "text/plain": [
       "               _                           \n",
       "platform       x86_64-w64-mingw32          \n",
       "arch           x86_64                      \n",
       "os             mingw32                     \n",
       "system         x86_64, mingw32             \n",
       "status                                     \n",
       "major          3                           \n",
       "minor          3.2                         \n",
       "year           2016                        \n",
       "month          10                          \n",
       "day            31                          \n",
       "svn rev        71607                       \n",
       "language       R                           \n",
       "version.string R version 3.3.2 (2016-10-31)\n",
       "nickname       Sincere Pumpkin Patch       "
      ]
     },
     "metadata": {},
     "output_type": "display_data"
    }
   ],
   "source": [
    "version # trying to update R from 3.3.2 to 3.3.3 to ensure gdal package works perfectly "
   ]
  },
  {
   "cell_type": "code",
   "execution_count": 2,
   "metadata": {
    "collapsed": true
   },
   "outputs": [],
   "source": [
    "# setInternet2(TRUE)\n",
    "# installr::updateR() # doesn't work"
   ]
  },
  {
   "cell_type": "code",
   "execution_count": 2,
   "metadata": {},
   "outputs": [
    {
     "data": {
      "text/html": [
       "'C:/Users/Laolu/Documents/R/win-library/3.3/rgeos'"
      ],
      "text/latex": [
       "'C:/Users/Laolu/Documents/R/win-library/3.3/rgeos'"
      ],
      "text/markdown": [
       "'C:/Users/Laolu/Documents/R/win-library/3.3/rgeos'"
      ],
      "text/plain": [
       "[1] \"C:/Users/Laolu/Documents/R/win-library/3.3/rgeos\""
      ]
     },
     "metadata": {},
     "output_type": "display_data"
    },
    {
     "data": {
      "text/html": [
       "'C:/Users/Laolu/Documents/R/win-library/3.3/rgdal'"
      ],
      "text/latex": [
       "'C:/Users/Laolu/Documents/R/win-library/3.3/rgdal'"
      ],
      "text/markdown": [
       "'C:/Users/Laolu/Documents/R/win-library/3.3/rgdal'"
      ],
      "text/plain": [
       "[1] \"C:/Users/Laolu/Documents/R/win-library/3.3/rgdal\""
      ]
     },
     "metadata": {},
     "output_type": "display_data"
    }
   ],
   "source": [
    "find.package('rgeos')\n",
    "find.package('rgdal')"
   ]
  },
  {
   "cell_type": "code",
   "execution_count": null,
   "metadata": {
    "collapsed": true
   },
   "outputs": [],
   "source": [
    "# install.packages('rgeos', 'C:/Users/Laolu/Anaconda2/envs/py27/R/library', repos='http://cran.rstudio.com/')\n",
    "# install.packages('rgdal', 'C:/Users/Laolu/Anaconda2/envs/py27/R/library', repos='http://cran.rstudio.com/')"
   ]
  },
  {
   "cell_type": "code",
   "execution_count": 3,
   "metadata": {},
   "outputs": [
    {
     "data": {
      "text/html": [
       "<table>\n",
       "<thead><tr><th scope=col>address</th><th scope=col>area</th><th scope=col>baths</th><th scope=col>beds</th><th scope=col>buildingtype</th><th scope=col>latitude</th><th scope=col>longitude</th><th scope=col>neighborhood</th><th scope=col>price</th><th scope=col>borough</th><th scope=col>pricearea</th></tr></thead>\n",
       "<tbody>\n",
       "\t<tr><td>56 Walker Street #2      </td><td>2670                     </td><td>3.5                      </td><td>3                        </td><td>Condo                    </td><td>40.7190                  </td><td>-74.0032                 </td><td>Tribeca                  </td><td>5600000                  </td><td>manhattan                </td><td>2097.378                 </td></tr>\n",
       "\t<tr><td>201 East 62nd Street #5A </td><td>2240                     </td><td>3.5                      </td><td>3                        </td><td>Co-op                    </td><td>40.7635                  </td><td>-73.9648                 </td><td>Lenox Hill               </td><td>2595000                  </td><td>manhattan                </td><td>1158.482                 </td></tr>\n",
       "\t<tr><td>333 West 56th Street #2  </td><td> 820                     </td><td>1.0                      </td><td>1                        </td><td>Condo                    </td><td>40.7670                  </td><td>-73.9849                 </td><td>Hell's Kitchen           </td><td> 995000                  </td><td>manhattan                </td><td>1213.415                 </td></tr>\n",
       "\t<tr><td>330 East 38th Street #20P</td><td> 884                     </td><td>1.5                      </td><td>1                        </td><td>Condo                    </td><td>40.7463                  </td><td>-73.9727                 </td><td>Murray Hill              </td><td>1225000                  </td><td>manhattan                </td><td>1385.747                 </td></tr>\n",
       "\t<tr><td>322 West 57th Street #55U</td><td>1599                     </td><td>2.0                      </td><td>2                        </td><td>Condo                    </td><td>40.7668                  </td><td>-73.9842                 </td><td>Hell's Kitchen           </td><td>4595000                  </td><td>manhattan                </td><td>2873.671                 </td></tr>\n",
       "\t<tr><td>408 Eighth Avenue #3C    </td><td> 712                     </td><td>1.0                      </td><td>1                        </td><td>Condo                    </td><td>40.7498                  </td><td>-73.9948                 </td><td>Midtown South            </td><td>1099000                  </td><td>manhattan                </td><td>1543.539                 </td></tr>\n",
       "</tbody>\n",
       "</table>\n"
      ],
      "text/latex": [
       "\\begin{tabular}{r|lllllllllll}\n",
       " address & area & baths & beds & buildingtype & latitude & longitude & neighborhood & price & borough & pricearea\\\\\n",
       "\\hline\n",
       "\t 56 Walker Street \\#2       & 2670                        & 3.5                         & 3                           & Condo                       & 40.7190                     & -74.0032                    & Tribeca                     & 5600000                     & manhattan                   & 2097.378                   \\\\\n",
       "\t 201 East 62nd Street \\#5A  & 2240                        & 3.5                         & 3                           & Co-op                       & 40.7635                     & -73.9648                    & Lenox Hill                  & 2595000                     & manhattan                   & 1158.482                   \\\\\n",
       "\t 333 West 56th Street \\#2   &  820                        & 1.0                         & 1                           & Condo                       & 40.7670                     & -73.9849                    & Hell's Kitchen              &  995000                     & manhattan                   & 1213.415                   \\\\\n",
       "\t 330 East 38th Street \\#20P &  884                        & 1.5                         & 1                           & Condo                       & 40.7463                     & -73.9727                    & Murray Hill                 & 1225000                     & manhattan                   & 1385.747                   \\\\\n",
       "\t 322 West 57th Street \\#55U & 1599                        & 2.0                         & 2                           & Condo                       & 40.7668                     & -73.9842                    & Hell's Kitchen              & 4595000                     & manhattan                   & 2873.671                   \\\\\n",
       "\t 408 Eighth Avenue \\#3C     &  712                        & 1.0                         & 1                           & Condo                       & 40.7498                     & -73.9948                    & Midtown South               & 1099000                     & manhattan                   & 1543.539                   \\\\\n",
       "\\end{tabular}\n"
      ],
      "text/markdown": [
       "\n",
       "address | area | baths | beds | buildingtype | latitude | longitude | neighborhood | price | borough | pricearea | \n",
       "|---|---|---|---|---|---|\n",
       "| 56 Walker Street #2       | 2670                      | 3.5                       | 3                         | Condo                     | 40.7190                   | -74.0032                  | Tribeca                   | 5600000                   | manhattan                 | 2097.378                  | \n",
       "| 201 East 62nd Street #5A  | 2240                      | 3.5                       | 3                         | Co-op                     | 40.7635                   | -73.9648                  | Lenox Hill                | 2595000                   | manhattan                 | 1158.482                  | \n",
       "| 333 West 56th Street #2   |  820                      | 1.0                       | 1                         | Condo                     | 40.7670                   | -73.9849                  | Hell's Kitchen            |  995000                   | manhattan                 | 1213.415                  | \n",
       "| 330 East 38th Street #20P |  884                      | 1.5                       | 1                         | Condo                     | 40.7463                   | -73.9727                  | Murray Hill               | 1225000                   | manhattan                 | 1385.747                  | \n",
       "| 322 West 57th Street #55U | 1599                      | 2.0                       | 2                         | Condo                     | 40.7668                   | -73.9842                  | Hell's Kitchen            | 4595000                   | manhattan                 | 2873.671                  | \n",
       "| 408 Eighth Avenue #3C     |  712                      | 1.0                       | 1                         | Condo                     | 40.7498                   | -73.9948                  | Midtown South             | 1099000                   | manhattan                 | 1543.539                  | \n",
       "\n",
       "\n"
      ],
      "text/plain": [
       "  address                   area baths beds buildingtype latitude longitude\n",
       "1 56 Walker Street #2       2670 3.5   3    Condo        40.7190  -74.0032 \n",
       "2 201 East 62nd Street #5A  2240 3.5   3    Co-op        40.7635  -73.9648 \n",
       "3 333 West 56th Street #2    820 1.0   1    Condo        40.7670  -73.9849 \n",
       "4 330 East 38th Street #20P  884 1.5   1    Condo        40.7463  -73.9727 \n",
       "5 322 West 57th Street #55U 1599 2.0   2    Condo        40.7668  -73.9842 \n",
       "6 408 Eighth Avenue #3C      712 1.0   1    Condo        40.7498  -73.9948 \n",
       "  neighborhood   price   borough   pricearea\n",
       "1 Tribeca        5600000 manhattan 2097.378 \n",
       "2 Lenox Hill     2595000 manhattan 1158.482 \n",
       "3 Hell's Kitchen  995000 manhattan 1213.415 \n",
       "4 Murray Hill    1225000 manhattan 1385.747 \n",
       "5 Hell's Kitchen 4595000 manhattan 2873.671 \n",
       "6 Midtown South  1099000 manhattan 1543.539 "
      ]
     },
     "metadata": {},
     "output_type": "display_data"
    }
   ],
   "source": [
    "df  <- read.csv(\"data.csv\")\n",
    "head(df)"
   ]
  },
  {
   "cell_type": "code",
   "execution_count": 4,
   "metadata": {},
   "outputs": [
    {
     "name": "stderr",
     "output_type": "stream",
     "text": [
      "Warning message:\n",
      "\"package 'dplyr' was built under R version 3.3.3\"\n",
      "Attaching package: 'dplyr'\n",
      "\n",
      "The following objects are masked from 'package:stats':\n",
      "\n",
      "    filter, lag\n",
      "\n",
      "The following objects are masked from 'package:base':\n",
      "\n",
      "    intersect, setdiff, setequal, union\n",
      "\n"
     ]
    }
   ],
   "source": [
    "library(dplyr)"
   ]
  },
  {
   "cell_type": "code",
   "execution_count": 5,
   "metadata": {},
   "outputs": [
    {
     "data": {
      "text/html": [
       "<table>\n",
       "<thead><tr><th scope=col>borough</th><th scope=col>avg_price</th><th scope=col>max_price</th><th scope=col>min_price</th><th scope=col>total</th></tr></thead>\n",
       "<tbody>\n",
       "\t<tr><td>bronx        </td><td> 708825.5    </td><td> 6999000     </td><td> 44500       </td><td> 753         </td></tr>\n",
       "\t<tr><td>brooklyn     </td><td>1458346.3    </td><td>11950000     </td><td>128500       </td><td>4317         </td></tr>\n",
       "\t<tr><td>manhattan    </td><td>4230556.9    </td><td>85000000     </td><td>160000       </td><td>7770         </td></tr>\n",
       "\t<tr><td>queens       </td><td> 881813.9    </td><td> 5300000     </td><td>110000       </td><td>2237         </td></tr>\n",
       "\t<tr><td>staten_island</td><td> 813081.1    </td><td> 2399000     </td><td>225000       </td><td> 221         </td></tr>\n",
       "</tbody>\n",
       "</table>\n"
      ],
      "text/latex": [
       "\\begin{tabular}{r|lllll}\n",
       " borough & avg\\_price & max\\_price & min\\_price & total\\\\\n",
       "\\hline\n",
       "\t bronx         &  708825.5     &  6999000      &  44500        &  753         \\\\\n",
       "\t brooklyn      & 1458346.3     & 11950000      & 128500        & 4317         \\\\\n",
       "\t manhattan     & 4230556.9     & 85000000      & 160000        & 7770         \\\\\n",
       "\t queens        &  881813.9     &  5300000      & 110000        & 2237         \\\\\n",
       "\t staten\\_island &  813081.1       &  2399000        & 225000          &  221           \\\\\n",
       "\\end{tabular}\n"
      ],
      "text/markdown": [
       "\n",
       "borough | avg_price | max_price | min_price | total | \n",
       "|---|---|---|---|---|\n",
       "| bronx         |  708825.5     |  6999000      |  44500        |  753          | \n",
       "| brooklyn      | 1458346.3     | 11950000      | 128500        | 4317          | \n",
       "| manhattan     | 4230556.9     | 85000000      | 160000        | 7770          | \n",
       "| queens        |  881813.9     |  5300000      | 110000        | 2237          | \n",
       "| staten_island |  813081.1     |  2399000      | 225000        |  221          | \n",
       "\n",
       "\n"
      ],
      "text/plain": [
       "  borough       avg_price max_price min_price total\n",
       "1 bronx          708825.5  6999000   44500     753 \n",
       "2 brooklyn      1458346.3 11950000  128500    4317 \n",
       "3 manhattan     4230556.9 85000000  160000    7770 \n",
       "4 queens         881813.9  5300000  110000    2237 \n",
       "5 staten_island  813081.1  2399000  225000     221 "
      ]
     },
     "metadata": {},
     "output_type": "display_data"
    }
   ],
   "source": [
    "df %>% group_by(borough) %>% summarise(avg_price = mean(price), max_price = max(price), min_price = min(price), total = n())"
   ]
  },
  {
   "cell_type": "code",
   "execution_count": 6,
   "metadata": {},
   "outputs": [
    {
     "name": "stderr",
     "output_type": "stream",
     "text": [
      "Warning message:\n",
      "\"package 'rgeos' was built under R version 3.3.3\"rgeos version: 0.3-23, (SVN revision 546)\n",
      " GEOS runtime version: 3.5.0-CAPI-1.9.0 r4084 \n",
      " Linking to sp version: 1.2-5 \n",
      " Polygon checking: TRUE \n",
      "\n",
      "Warning message:\n",
      "\"package 'rgdal' was built under R version 3.3.3\"Loading required package: sp\n",
      "Warning message:\n",
      "\"package 'sp' was built under R version 3.3.3\"rgdal: version: 1.2-8, (SVN revision 663)\n",
      " Geospatial Data Abstraction Library extensions to R successfully loaded\n",
      " Loaded GDAL runtime: GDAL 2.0.1, released 2015/09/15\n",
      " Path to GDAL shared files: C:/Users/Laolu/Documents/R/win-library/3.3/rgdal/gdal\n",
      " Loaded PROJ.4 runtime: Rel. 4.9.2, 08 September 2015, [PJ_VERSION: 492]\n",
      " Path to PROJ.4 shared files: C:/Users/Laolu/Documents/R/win-library/3.3/rgdal/proj\n",
      " Linking to sp version: 1.2-5 \n"
     ]
    }
   ],
   "source": [
    "library(rgeos)\n",
    "library(rgdal)"
   ]
  },
  {
   "cell_type": "code",
   "execution_count": 7,
   "metadata": {
    "collapsed": true
   },
   "outputs": [],
   "source": [
    "wgs.84  <- \"+proj=longlat +datum=WGS84 +no_defs +ellps=WGS84 +towgs84=0,0,0\"\n",
    "mollweide  <- \"+proj=moll +lon_0=0 +x_0=0 +y_0=0 +ellps=WGS84 +datum=WGS84 +units=m +no_defs\""
   ]
  },
  {
   "cell_type": "code",
   "execution_count": 8,
   "metadata": {
    "collapsed": true
   },
   "outputs": [],
   "source": [
    "# fixed the anomaly by passing long before lat instead of c('latitude', 'longitude') as done previously\n",
    "points  <- SpatialPoints(df[c('longitude', 'latitude')], proj4string = CRS(wgs.84))"
   ]
  },
  {
   "cell_type": "code",
   "execution_count": 9,
   "metadata": {},
   "outputs": [
    {
     "name": "stdout",
     "output_type": "stream",
     "text": [
      "OGR data source with driver: ESRI Shapefile \n",
      "Source: \"C:/Users/Laolu/Dropbox/GitHub/NYC_RealEstate/coastline_data\", layer: \"ne_10m_coastline\"\n",
      "with 4132 features\n",
      "It has 2 fields\n"
     ]
    },
    {
     "name": "stderr",
     "output_type": "stream",
     "text": [
      "Warning message in readOGR(dsn = \"C:/Users/Laolu/Dropbox/GitHub/NYC_RealEstate/coastline_data\", :\n",
      "\"p4s= argument given as: +proj=longlat +datum=WGS84 +no_defs +ellps=WGS84 +towgs84=0,0,0\n",
      " and read as: +proj=longlat +datum=WGS84 +no_defs \n",
      " read string overridden by given p4s= argument value\""
     ]
    }
   ],
   "source": [
    "coast  <- readOGR(dsn=\"C:/Users/Laolu/Dropbox/GitHub/NYC_RealEstate/coastline_data\",layer=\"ne_10m_coastline\", p4s=wgs.84)"
   ]
  },
  {
   "cell_type": "code",
   "execution_count": 10,
   "metadata": {},
   "outputs": [
    {
     "data": {
      "text/html": [
       "'S4'"
      ],
      "text/latex": [
       "'S4'"
      ],
      "text/markdown": [
       "'S4'"
      ],
      "text/plain": [
       "[1] \"S4\""
      ]
     },
     "metadata": {},
     "output_type": "display_data"
    },
    {
     "data": {
      "text/html": [
       "'S4'"
      ],
      "text/latex": [
       "'S4'"
      ],
      "text/markdown": [
       "'S4'"
      ],
      "text/plain": [
       "[1] \"S4\""
      ]
     },
     "metadata": {},
     "output_type": "display_data"
    }
   ],
   "source": [
    "typeof(coast)\n",
    "typeof(points)"
   ]
  },
  {
   "cell_type": "code",
   "execution_count": 11,
   "metadata": {},
   "outputs": [
    {
     "data": {
      "text/html": [
       "'SpatialLinesDataFrame'"
      ],
      "text/latex": [
       "'SpatialLinesDataFrame'"
      ],
      "text/markdown": [
       "'SpatialLinesDataFrame'"
      ],
      "text/plain": [
       "[1] \"SpatialLinesDataFrame\"\n",
       "attr(,\"package\")\n",
       "[1] \"sp\""
      ]
     },
     "metadata": {},
     "output_type": "display_data"
    }
   ],
   "source": [
    "class(points)\n",
    "class(coast)"
   ]
  },
  {
   "cell_type": "code",
   "execution_count": 12,
   "metadata": {
    "collapsed": true
   },
   "outputs": [],
   "source": [
    "coast.moll  <- spTransform(coast, CRS(mollweide))\n",
    "points.moll  <- spTransform(points, CRS(mollweide))"
   ]
  },
  {
   "cell_type": "code",
   "execution_count": 12,
   "metadata": {},
   "outputs": [
    {
     "data": {
      "text/html": [
       "<dl class=dl-horizontal>\n",
       "\t<dt>coords</dt>\n",
       "\t\t<dd>'matrix'</dd>\n",
       "\t<dt>bbox</dt>\n",
       "\t\t<dd>'matrix'</dd>\n",
       "\t<dt>proj4string</dt>\n",
       "\t\t<dd>'CRS'</dd>\n",
       "</dl>\n"
      ],
      "text/latex": [
       "\\begin{description*}\n",
       "\\item[coords] 'matrix'\n",
       "\\item[bbox] 'matrix'\n",
       "\\item[proj4string] 'CRS'\n",
       "\\end{description*}\n"
      ],
      "text/markdown": [
       "coords\n",
       ":   'matrix'bbox\n",
       ":   'matrix'proj4string\n",
       ":   'CRS'\n",
       "\n"
      ],
      "text/plain": [
       "     coords        bbox proj4string \n",
       "   \"matrix\"    \"matrix\"       \"CRS\" "
      ]
     },
     "metadata": {},
     "output_type": "display_data"
    },
    {
     "data": {
      "text/html": [
       "<dl class=dl-horizontal>\n",
       "\t<dt>data</dt>\n",
       "\t\t<dd>'data.frame'</dd>\n",
       "\t<dt>lines</dt>\n",
       "\t\t<dd>'list'</dd>\n",
       "\t<dt>bbox</dt>\n",
       "\t\t<dd>'matrix'</dd>\n",
       "\t<dt>proj4string</dt>\n",
       "\t\t<dd>'CRS'</dd>\n",
       "</dl>\n"
      ],
      "text/latex": [
       "\\begin{description*}\n",
       "\\item[data] 'data.frame'\n",
       "\\item[lines] 'list'\n",
       "\\item[bbox] 'matrix'\n",
       "\\item[proj4string] 'CRS'\n",
       "\\end{description*}\n"
      ],
      "text/markdown": [
       "data\n",
       ":   'data.frame'lines\n",
       ":   'list'bbox\n",
       ":   'matrix'proj4string\n",
       ":   'CRS'\n",
       "\n"
      ],
      "text/plain": [
       "        data        lines         bbox  proj4string \n",
       "\"data.frame\"       \"list\"     \"matrix\"        \"CRS\" "
      ]
     },
     "metadata": {},
     "output_type": "display_data"
    }
   ],
   "source": [
    "getSlots(\"SpatialPoints\")\n",
    "getSlots(\"SpatialLinesDataFrame\")"
   ]
  },
  {
   "cell_type": "code",
   "execution_count": 13,
   "metadata": {
    "collapsed": true
   },
   "outputs": [],
   "source": [
    "# coastdistance  <- sapply(points, function(i)gDistance(points.moll[i], coast.moll), simplify = \"array\")\n",
    "len  <- c(1:length(points))\n",
    "coastdistance  <- sapply(len, function(i){gDistance(points.moll[i], coast.moll)})"
   ]
  },
  {
   "cell_type": "code",
   "execution_count": 14,
   "metadata": {
    "scrolled": true
   },
   "outputs": [
    {
     "data": {
      "text/html": [
       "<table>\n",
       "<thead><tr><th scope=col>address</th><th scope=col>area</th><th scope=col>baths</th><th scope=col>beds</th><th scope=col>buildingtype</th><th scope=col>latitude</th><th scope=col>longitude</th><th scope=col>neighborhood</th><th scope=col>price</th><th scope=col>borough</th><th scope=col>pricearea</th><th scope=col>coastdist</th></tr></thead>\n",
       "<tbody>\n",
       "\t<tr><td>56 Walker Street #2       </td><td>2670                      </td><td>3.5                       </td><td>3                         </td><td>Condo                     </td><td>40.71900                  </td><td>-74.00320                 </td><td>Tribeca                   </td><td>5600000                   </td><td>manhattan                 </td><td>2097.378                  </td><td>746.61028                 </td></tr>\n",
       "\t<tr><td>201 East 62nd Street #5A  </td><td>2240                      </td><td>3.5                       </td><td>3                         </td><td>Co-op                     </td><td>40.76350                  </td><td>-73.96480                 </td><td>Lenox Hill                </td><td>2595000                   </td><td>manhattan                 </td><td>1158.482                  </td><td>501.93385                 </td></tr>\n",
       "\t<tr><td>333 West 56th Street #2   </td><td> 820                      </td><td>1.0                       </td><td>1                         </td><td>Condo                     </td><td>40.76700                  </td><td>-73.98490                 </td><td>Hell's Kitchen            </td><td> 995000                   </td><td>manhattan                 </td><td>1213.415                  </td><td>598.44922                 </td></tr>\n",
       "\t<tr><td>330 East 38th Street #20P </td><td> 884                      </td><td>1.5                       </td><td>1                         </td><td>Condo                     </td><td>40.74630                  </td><td>-73.97270                 </td><td>Murray Hill               </td><td>1225000                   </td><td>manhattan                 </td><td>1385.747                  </td><td>257.25204                 </td></tr>\n",
       "\t<tr><td>322 West 57th Street #55U </td><td>1599                      </td><td>2.0                       </td><td>2                         </td><td>Condo                     </td><td>40.76680                  </td><td>-73.98420                 </td><td>Hell's Kitchen            </td><td>4595000                   </td><td>manhattan                 </td><td>2873.671                  </td><td>647.07872                 </td></tr>\n",
       "\t<tr><td>408 Eighth Avenue #3C     </td><td> 712                      </td><td>1.0                       </td><td>1                         </td><td>Condo                     </td><td>40.74980                  </td><td>-73.99480                 </td><td>Midtown South             </td><td>1099000                   </td><td>manhattan                 </td><td>1543.539                  </td><td>691.42652                 </td></tr>\n",
       "\t<tr><td>151 East 85th Street #12H </td><td>1646                      </td><td>2.5                       </td><td>2                         </td><td>Condo                     </td><td>40.77910                  </td><td>-73.95540                 </td><td>Upper East Side           </td><td>3095000                   </td><td>manhattan                 </td><td>1880.316                  </td><td>594.59617                 </td></tr>\n",
       "\t<tr><td>30 Park Place #48B        </td><td>1664                      </td><td>2.5                       </td><td>2                         </td><td>Condo                     </td><td>40.71278                  </td><td>-74.00903                 </td><td>Tribeca                   </td><td>4520000                   </td><td>manhattan                 </td><td>2716.346                  </td><td>404.38246                 </td></tr>\n",
       "\t<tr><td>438 East 12th Street #5R  </td><td>1604                      </td><td>3.0                       </td><td>3                         </td><td>Condo                     </td><td>40.72900                  </td><td>-73.98210                 </td><td>East Village              </td><td>3450000                   </td><td>manhattan                 </td><td>2150.873                  </td><td>701.18010                 </td></tr>\n",
       "\t<tr><td>80 Riverside Boulevard #9P</td><td>1850                      </td><td>3.0                       </td><td>3                         </td><td>Condo                     </td><td>40.77550                  </td><td>-73.98850                 </td><td>Lincoln Square            </td><td>3695000                   </td><td>manhattan                 </td><td>1997.297                  </td><td> 42.81556                 </td></tr>\n",
       "\t<tr><td>330 East 38th Street #7J  </td><td> 903                      </td><td>1.0                       </td><td>1                         </td><td>Condo                     </td><td>40.74630                  </td><td>-73.97270                 </td><td>Murray Hill               </td><td>1270000                   </td><td>manhattan                 </td><td>1406.423                  </td><td>257.25204                 </td></tr>\n",
       "\t<tr><td>205 West End Avenue #10M  </td><td> 900                      </td><td>1.0                       </td><td>1                         </td><td>Co-op                     </td><td>40.77850                  </td><td>-73.98660                 </td><td>Lincoln Square            </td><td> 939000                   </td><td>manhattan                 </td><td>1043.333                  </td><td> 29.84797                 </td></tr>\n",
       "\t<tr><td>161 Maiden Ln #37A        </td><td>1311                      </td><td>2.0                       </td><td>2                         </td><td>Condo                     </td><td>40.70550                  </td><td>-74.00480                 </td><td>Financial District        </td><td>3025000                   </td><td>manhattan                 </td><td>2307.399                  </td><td>196.27509                 </td></tr>\n",
       "\t<tr><td>515 East 79th Street #5B  </td><td>1150                      </td><td>2.5                       </td><td>2                         </td><td>Co-op                     </td><td>40.77100                  </td><td>-73.94880                 </td><td>Yorkville                 </td><td>1250000                   </td><td>manhattan                 </td><td>1086.957                  </td><td>116.95186                 </td></tr>\n",
       "\t<tr><td>345 East 80th Street #8F  </td><td> 929                      </td><td>1.0                       </td><td>2                         </td><td>Condo                     </td><td>40.77350                  </td><td>-73.95230                 </td><td>Yorkville                 </td><td>1179000                   </td><td>manhattan                 </td><td>1269.107                  </td><td>187.31059                 </td></tr>\n",
       "\t<tr><td>345 East 80th Street #8E  </td><td> 622                      </td><td>1.0                       </td><td>1                         </td><td>Condo                     </td><td>40.77350                  </td><td>-73.95230                 </td><td>Yorkville                 </td><td> 789000                   </td><td>manhattan                 </td><td>1268.489                  </td><td>187.31059                 </td></tr>\n",
       "\t<tr><td>311 West Broadway #3I     </td><td>1745                      </td><td>2.5                       </td><td>2                         </td><td>Condo                     </td><td>40.72150                  </td><td>-74.00370                 </td><td>Soho                      </td><td>3500000                   </td><td>manhattan                 </td><td>2005.731                  </td><td>682.58329                 </td></tr>\n",
       "\t<tr><td>180 W 58th Street #9B     </td><td>1100                      </td><td>1.0                       </td><td>1                         </td><td>Co-op                     </td><td>40.76580                  </td><td>-73.97930                 </td><td>Midtown                   </td><td>1675000                   </td><td>manhattan                 </td><td>1522.727                  </td><td>970.68942                 </td></tr>\n",
       "\t<tr><td>188 East 70th Street #6E  </td><td> 730                      </td><td>2.0                       </td><td>1                         </td><td>Condo                     </td><td>40.76840                  </td><td>-73.96200                 </td><td>Lenox Hill                </td><td>1195000                   </td><td>manhattan                 </td><td>1636.986                  </td><td>539.81339                 </td></tr>\n",
       "\t<tr><td>283 East 4th Street #5A   </td><td> 444                      </td><td>1.0                       </td><td>1                         </td><td>Co-op                     </td><td>40.72280                  </td><td>-73.98080                 </td><td>East Village              </td><td> 450000                   </td><td>manhattan                 </td><td>1013.514                  </td><td>499.80291                 </td></tr>\n",
       "\t<tr><td>591 Third Avenue #17A     </td><td>1457                      </td><td>2.0                       </td><td>3                         </td><td>Condo                     </td><td>40.74850                  </td><td>-73.97590                 </td><td>Murray Hill               </td><td>2900000                   </td><td>manhattan                 </td><td>1990.391                  </td><td>531.84311                 </td></tr>\n",
       "\t<tr><td>591 Third Avenue #20A     </td><td>1300                      </td><td>2.0                       </td><td>2                         </td><td>Condo                     </td><td>40.74850                  </td><td>-73.97590                 </td><td>Murray Hill               </td><td>2725000                   </td><td>manhattan                 </td><td>2096.154                  </td><td>531.84311                 </td></tr>\n",
       "\t<tr><td>591 Third Avenue #19B     </td><td>1151                      </td><td>2.0                       </td><td>2                         </td><td>Condo                     </td><td>40.74850                  </td><td>-73.97590                 </td><td>Murray Hill               </td><td>2305000                   </td><td>manhattan                 </td><td>2002.606                  </td><td>531.84311                 </td></tr>\n",
       "\t<tr><td>591 Third Avenue #10A     </td><td>1077                      </td><td>2.0                       </td><td>2                         </td><td>Condo                     </td><td>40.74850                  </td><td>-73.97590                 </td><td>Murray Hill               </td><td>2100000                   </td><td>manhattan                 </td><td>1949.861                  </td><td>531.84311                 </td></tr>\n",
       "\t<tr><td>336 E 54th Street #4A     </td><td> 798                      </td><td>1.0                       </td><td>1                         </td><td>Condo                     </td><td>40.75660                  </td><td>-73.96540                 </td><td>Sutton Place              </td><td>1762500                   </td><td>manhattan                 </td><td>2208.647                  </td><td>255.34596                 </td></tr>\n",
       "\t<tr><td>591 Third Avenue #3C      </td><td>1111                      </td><td>2.0                       </td><td>2                         </td><td>Condo                     </td><td>40.74850                  </td><td>-73.97590                 </td><td>Murray Hill               </td><td>1900000                   </td><td>manhattan                 </td><td>1710.171                  </td><td>531.84311                 </td></tr>\n",
       "\t<tr><td>215 West 88th Street #9F  </td><td>2132                      </td><td>3.0                       </td><td>3                         </td><td>Condo                     </td><td>40.78949                  </td><td>-73.97497                 </td><td>Upper West Side           </td><td>4250000                   </td><td>manhattan                 </td><td>1993.433                  </td><td>306.97173                 </td></tr>\n",
       "\t<tr><td>5 Beekman Street #47B     </td><td>1572                      </td><td>2.5                       </td><td>2                         </td><td>Condo                     </td><td>40.71120                  </td><td>-74.00690                 </td><td>Fulton/Seaport            </td><td>3975000                   </td><td>manhattan                 </td><td>2528.626                  </td><td>573.47219                 </td></tr>\n",
       "\t<tr><td>591 Third Avenue #18C     </td><td> 881                      </td><td>1.0                       </td><td>1                         </td><td>Condo                     </td><td>40.74850                  </td><td>-73.97590                 </td><td>Murray Hill               </td><td>1690000                   </td><td>manhattan                 </td><td>1918.275                  </td><td>531.84311                 </td></tr>\n",
       "\t<tr><td>591 Third Avenue #15C     </td><td> 737                      </td><td>1.0                       </td><td>1                         </td><td>Condo                     </td><td>40.74850                  </td><td>-73.97590                 </td><td>Murray Hill               </td><td>1505000                   </td><td>manhattan                 </td><td>2042.062                  </td><td>531.84311                 </td></tr>\n",
       "\t<tr><td>...</td><td>...</td><td>...</td><td>...</td><td>...</td><td>...</td><td>...</td><td>...</td><td>...</td><td>...</td><td>...</td><td>...</td></tr>\n",
       "\t<tr><td>68-61 Yellowstone Boulevard #115    </td><td>1200                                </td><td>1.5                                 </td><td>2                                   </td><td>Co-op                               </td><td>40.7250                             </td><td>-73.8467                            </td><td>Forest Hills                        </td><td> 475000                             </td><td>queens                              </td><td> 395.8333                           </td><td>5998.09026                          </td></tr>\n",
       "\t<tr><td>4-74 48th Avenue #30F               </td><td> 863                                </td><td>1.0                                 </td><td>1                                   </td><td>Condop                              </td><td>40.7442                             </td><td>-73.9568                            </td><td>Hunters Point                       </td><td> 665000                             </td><td>queens                              </td><td> 770.5678                           </td><td>  49.68559                          </td></tr>\n",
       "\t<tr><td>4-74 48th Avenue #27F               </td><td> 863                                </td><td>1.0                                 </td><td>1                                   </td><td>Condop                              </td><td>40.7445                             </td><td>-73.9565                            </td><td>Hunters Point                       </td><td> 648000                             </td><td>queens                              </td><td> 750.8691                           </td><td>  47.64825                          </td></tr>\n",
       "\t<tr><td>70 Greenway South                   </td><td>4656                                </td><td>5.0                                 </td><td>6                                   </td><td>House                               </td><td>40.7146                             </td><td>-73.8444                            </td><td>Forest Hills                        </td><td>3750000                             </td><td>queens                              </td><td> 805.4124                           </td><td>7227.21544                          </td></tr>\n",
       "\t<tr><td>97-07 63rd Road #8F                 </td><td> 780                                </td><td>1.0                                 </td><td>1                                   </td><td>Co-op                               </td><td>40.7323                             </td><td>-73.8599                            </td><td>Rego Park                           </td><td> 253000                             </td><td>queens                              </td><td> 324.3590                           </td><td>5325.71505                          </td></tr>\n",
       "\t<tr><td>42-60 Crescent Street #7C           </td><td>1088                                </td><td>2.0                                 </td><td>2                                   </td><td>Condo                               </td><td>40.7491                             </td><td>-73.9422                            </td><td>Hunters Point                       </td><td>1260000                             </td><td>queens                              </td><td>1158.0882                           </td><td> 504.27642                          </td></tr>\n",
       "\t<tr><td>67-76 Booth #1K                     </td><td>1100                                </td><td>2.0                                 </td><td>2                                   </td><td>Condo                               </td><td>40.7245                             </td><td>-73.8521                            </td><td>Forest Hills                        </td><td> 529000                             </td><td>queens                              </td><td> 480.9091                           </td><td>6177.81399                          </td></tr>\n",
       "\t<tr><td>36 Wendover #1                      </td><td>6000                                </td><td>5.5                                 </td><td>7                                   </td><td>House                               </td><td>40.7119                             </td><td>-73.8392                            </td><td>Forest Hills                        </td><td>5300000                             </td><td>queens                              </td><td> 883.3333                           </td><td>7435.36284                          </td></tr>\n",
       "\t<tr><td>10-63 Jackson Avenue #7E            </td><td> 625                                </td><td>1.0                                 </td><td>1                                   </td><td>Condo                               </td><td>40.7429                             </td><td>-73.9524                            </td><td>Hunters Point                       </td><td> 750000                             </td><td>queens                              </td><td>1200.0000                           </td><td> 250.37880                          </td></tr>\n",
       "\t<tr><td>61-05 39th Avenue #4F               </td><td> 854                                </td><td>1.0                                 </td><td>1                                   </td><td>Condo                               </td><td>40.7473                             </td><td>-73.9022                            </td><td>Woodside                            </td><td> 588000                             </td><td>queens                              </td><td> 688.5246                           </td><td>2750.76155                          </td></tr>\n",
       "\t<tr><td>4-74 48th Avenue #PH2E              </td><td>1005                                </td><td>2.0                                 </td><td>2                                   </td><td>Condop                              </td><td>40.7442                             </td><td>-73.9568                            </td><td>Hunters Point                       </td><td> 890000                             </td><td>queens                              </td><td> 885.5721                           </td><td>  49.68559                          </td></tr>\n",
       "\t<tr><td>11-02 49th Avenue #10A              </td><td>1800                                </td><td>3.0                                 </td><td>3                                   </td><td>Condo                               </td><td>40.7423                             </td><td>-73.9510                            </td><td>Hunters Point                       </td><td>1885000                             </td><td>queens                              </td><td>1047.2222                           </td><td> 355.07130                          </td></tr>\n",
       "\t<tr><td>81 Puritan Avenue                   </td><td>3654                                </td><td>4.5                                 </td><td>5                                   </td><td>House                               </td><td>40.7141                             </td><td>-73.8407                            </td><td>Forest Hills                        </td><td>2899000                             </td><td>queens                              </td><td> 793.3771                           </td><td>7198.44295                          </td></tr>\n",
       "\t<tr><td>112-02 Northern Boulevard #5E       </td><td>1143                                </td><td>2.0                                 </td><td>2                                   </td><td>Condo                               </td><td>40.7578                             </td><td>-73.8573                            </td><td>North Corona                        </td><td> 665000                             </td><td>queens                              </td><td> 581.8023                           </td><td>2209.96927                          </td></tr>\n",
       "\t<tr><td>112-02 Northern Boulevard #5F       </td><td>1185                                </td><td>2.0                                 </td><td>2                                   </td><td>Condo                               </td><td>40.7578                             </td><td>-73.8573                            </td><td>North Corona                        </td><td> 665000                             </td><td>queens                              </td><td> 561.1814                           </td><td>2209.96927                          </td></tr>\n",
       "\t<tr><td>102-11 Remington Street             </td><td>2027                                </td><td>3.0                                 </td><td>7                                   </td><td>House                               </td><td>40.6932                             </td><td>-73.8101                            </td><td>South Jamaica                       </td><td> 460000                             </td><td>queens                              </td><td> 226.9364                           </td><td>6205.06400                          </td></tr>\n",
       "\t<tr><td>27-28 Thomson Avenue #350           </td><td>1901                                </td><td>2.5                                 </td><td>2                                   </td><td>Condo                               </td><td>40.7457                             </td><td>-73.9418                            </td><td>Hunters Point                       </td><td>2399000                             </td><td>queens                              </td><td>1261.9674                           </td><td> 688.54031                          </td></tr>\n",
       "\t<tr><td>25-26 78th Street                   </td><td>1723                                </td><td>2.0                                 </td><td>3                                   </td><td>Multi-family                        </td><td>40.7619                             </td><td>-73.8906                            </td><td>Jackson Heights                     </td><td> 500000                             </td><td>queens                              </td><td> 290.1915                           </td><td>2421.18574                          </td></tr>\n",
       "\t<tr><td>Two Bay Club Drive #18A             </td><td>1134                                </td><td>2.0                                 </td><td>2                                   </td><td>Condo                               </td><td>40.7783                             </td><td>-73.7811                            </td><td>Bay Terrace (Queens)                </td><td> 899000                             </td><td>queens                              </td><td> 792.7690                           </td><td>1330.66793                          </td></tr>\n",
       "\t<tr><td>240-34 70th Avenue #15B             </td><td>1050                                </td><td>2.0                                 </td><td>3                                   </td><td>Condo                               </td><td>40.7493                             </td><td>-73.7369                            </td><td>Little Neck                         </td><td> 438000                             </td><td>queens                              </td><td> 417.1429                           </td><td>2471.35039                          </td></tr>\n",
       "\t<tr><td>86-10 34th Avenue #116              </td><td> 950                                </td><td>1.0                                 </td><td>2                                   </td><td>Co-op                               </td><td>40.7539                             </td><td>-73.8808                            </td><td>Jackson Heights                     </td><td> 575000                             </td><td>queens                              </td><td> 605.2632                           </td><td>3064.55987                          </td></tr>\n",
       "\t<tr><td>27-21 44th Dr #2203                 </td><td> 648                                </td><td>1.0                                 </td><td>1                                   </td><td>Condo                               </td><td>40.7466                             </td><td>-73.9416                            </td><td>Hunters Point                       </td><td> 890000                             </td><td>queens                              </td><td>1373.4568                           </td><td> 656.53261                          </td></tr>\n",
       "\t<tr><td>40-26 College Point Boulevard #1/11P</td><td>1111                                </td><td>2.0                                 </td><td>2                                   </td><td>Condo                               </td><td>40.7588                             </td><td>-73.8341                            </td><td>Flushing                            </td><td> 687500                             </td><td>queens                              </td><td> 618.8119                           </td><td>2300.48873                          </td></tr>\n",
       "\t<tr><td>109-26 Saultell Avenue              </td><td>2166                                </td><td>2.0                                 </td><td>3                                   </td><td>House                               </td><td>40.7386                             </td><td>-73.8504                            </td><td>Corona                              </td><td> 449000                             </td><td>queens                              </td><td> 207.2946                           </td><td>4407.93810                          </td></tr>\n",
       "\t<tr><td>11-02 49th Avenue #6O               </td><td>1180                                </td><td>2.0                                 </td><td>2                                   </td><td>Condo                               </td><td>40.7423                             </td><td>-73.9510                            </td><td>Hunters Point                       </td><td> 795000                             </td><td>queens                              </td><td> 673.7288                           </td><td> 355.07130                          </td></tr>\n",
       "\t<tr><td>11-02 49th Avenue #10N              </td><td> 737                                </td><td>1.0                                 </td><td>1                                   </td><td>Condo                               </td><td>40.7423                             </td><td>-73.9510                            </td><td>Hunters Point                       </td><td> 540000                             </td><td>queens                              </td><td> 732.7001                           </td><td> 355.07130                          </td></tr>\n",
       "\t<tr><td>50-09 2nd Street #608               </td><td>1186                                </td><td>1.5                                 </td><td>1                                   </td><td>Condo                               </td><td>40.7429                             </td><td>-73.9579                            </td><td>Hunters Point                       </td><td>1010000                             </td><td>queens                              </td><td> 851.6020                           </td><td>  76.06182                          </td></tr>\n",
       "\t<tr><td>11-02 49th Avenue #3N               </td><td> 737                                </td><td>1.0                                 </td><td>1                                   </td><td>Condo                               </td><td>40.7423                             </td><td>-73.9510                            </td><td>Hunters Point                       </td><td> 450000                             </td><td>queens                              </td><td> 610.5834                           </td><td> 355.07130                          </td></tr>\n",
       "\t<tr><td>11-02 49th Avenue #4D               </td><td>1198                                </td><td>2.0                                 </td><td>2                                   </td><td>Condo                               </td><td>40.7423                             </td><td>-73.9510                            </td><td>Hunters Point                       </td><td> 845000                             </td><td>queens                              </td><td> 705.3422                           </td><td> 355.07130                          </td></tr>\n",
       "\t<tr><td>120 Fifth Avenue #12F               </td><td>3200                                </td><td>4.0                                 </td><td>7                                   </td><td>Condo                               </td><td>40.7941                             </td><td>-73.8260                            </td><td>Malba                               </td><td> 995000                             </td><td>queens                              </td><td> 310.9375                           </td><td> 116.53392                          </td></tr>\n",
       "</tbody>\n",
       "</table>\n"
      ],
      "text/latex": [
       "\\begin{tabular}{r|llllllllllll}\n",
       " address & area & baths & beds & buildingtype & latitude & longitude & neighborhood & price & borough & pricearea & coastdist\\\\\n",
       "\\hline\n",
       "\t 56 Walker Street \\#2        & 2670                         & 3.5                          & 3                            & Condo                        & 40.71900                     & -74.00320                    & Tribeca                      & 5600000                      & manhattan                    & 2097.378                     & 746.61028                   \\\\\n",
       "\t 201 East 62nd Street \\#5A   & 2240                         & 3.5                          & 3                            & Co-op                        & 40.76350                     & -73.96480                    & Lenox Hill                   & 2595000                      & manhattan                    & 1158.482                     & 501.93385                   \\\\\n",
       "\t 333 West 56th Street \\#2    &  820                         & 1.0                          & 1                            & Condo                        & 40.76700                     & -73.98490                    & Hell's Kitchen               &  995000                      & manhattan                    & 1213.415                     & 598.44922                   \\\\\n",
       "\t 330 East 38th Street \\#20P  &  884                         & 1.5                          & 1                            & Condo                        & 40.74630                     & -73.97270                    & Murray Hill                  & 1225000                      & manhattan                    & 1385.747                     & 257.25204                   \\\\\n",
       "\t 322 West 57th Street \\#55U  & 1599                         & 2.0                          & 2                            & Condo                        & 40.76680                     & -73.98420                    & Hell's Kitchen               & 4595000                      & manhattan                    & 2873.671                     & 647.07872                   \\\\\n",
       "\t 408 Eighth Avenue \\#3C      &  712                         & 1.0                          & 1                            & Condo                        & 40.74980                     & -73.99480                    & Midtown South                & 1099000                      & manhattan                    & 1543.539                     & 691.42652                   \\\\\n",
       "\t 151 East 85th Street \\#12H  & 1646                         & 2.5                          & 2                            & Condo                        & 40.77910                     & -73.95540                    & Upper East Side              & 3095000                      & manhattan                    & 1880.316                     & 594.59617                   \\\\\n",
       "\t 30 Park Place \\#48B         & 1664                         & 2.5                          & 2                            & Condo                        & 40.71278                     & -74.00903                    & Tribeca                      & 4520000                      & manhattan                    & 2716.346                     & 404.38246                   \\\\\n",
       "\t 438 East 12th Street \\#5R   & 1604                         & 3.0                          & 3                            & Condo                        & 40.72900                     & -73.98210                    & East Village                 & 3450000                      & manhattan                    & 2150.873                     & 701.18010                   \\\\\n",
       "\t 80 Riverside Boulevard \\#9P & 1850                         & 3.0                          & 3                            & Condo                        & 40.77550                     & -73.98850                    & Lincoln Square               & 3695000                      & manhattan                    & 1997.297                     &  42.81556                   \\\\\n",
       "\t 330 East 38th Street \\#7J   &  903                         & 1.0                          & 1                            & Condo                        & 40.74630                     & -73.97270                    & Murray Hill                  & 1270000                      & manhattan                    & 1406.423                     & 257.25204                   \\\\\n",
       "\t 205 West End Avenue \\#10M   &  900                         & 1.0                          & 1                            & Co-op                        & 40.77850                     & -73.98660                    & Lincoln Square               &  939000                      & manhattan                    & 1043.333                     &  29.84797                   \\\\\n",
       "\t 161 Maiden Ln \\#37A         & 1311                         & 2.0                          & 2                            & Condo                        & 40.70550                     & -74.00480                    & Financial District           & 3025000                      & manhattan                    & 2307.399                     & 196.27509                   \\\\\n",
       "\t 515 East 79th Street \\#5B   & 1150                         & 2.5                          & 2                            & Co-op                        & 40.77100                     & -73.94880                    & Yorkville                    & 1250000                      & manhattan                    & 1086.957                     & 116.95186                   \\\\\n",
       "\t 345 East 80th Street \\#8F   &  929                         & 1.0                          & 2                            & Condo                        & 40.77350                     & -73.95230                    & Yorkville                    & 1179000                      & manhattan                    & 1269.107                     & 187.31059                   \\\\\n",
       "\t 345 East 80th Street \\#8E   &  622                         & 1.0                          & 1                            & Condo                        & 40.77350                     & -73.95230                    & Yorkville                    &  789000                      & manhattan                    & 1268.489                     & 187.31059                   \\\\\n",
       "\t 311 West Broadway \\#3I      & 1745                         & 2.5                          & 2                            & Condo                        & 40.72150                     & -74.00370                    & Soho                         & 3500000                      & manhattan                    & 2005.731                     & 682.58329                   \\\\\n",
       "\t 180 W 58th Street \\#9B      & 1100                         & 1.0                          & 1                            & Co-op                        & 40.76580                     & -73.97930                    & Midtown                      & 1675000                      & manhattan                    & 1522.727                     & 970.68942                   \\\\\n",
       "\t 188 East 70th Street \\#6E   &  730                         & 2.0                          & 1                            & Condo                        & 40.76840                     & -73.96200                    & Lenox Hill                   & 1195000                      & manhattan                    & 1636.986                     & 539.81339                   \\\\\n",
       "\t 283 East 4th Street \\#5A    &  444                         & 1.0                          & 1                            & Co-op                        & 40.72280                     & -73.98080                    & East Village                 &  450000                      & manhattan                    & 1013.514                     & 499.80291                   \\\\\n",
       "\t 591 Third Avenue \\#17A      & 1457                         & 2.0                          & 3                            & Condo                        & 40.74850                     & -73.97590                    & Murray Hill                  & 2900000                      & manhattan                    & 1990.391                     & 531.84311                   \\\\\n",
       "\t 591 Third Avenue \\#20A      & 1300                         & 2.0                          & 2                            & Condo                        & 40.74850                     & -73.97590                    & Murray Hill                  & 2725000                      & manhattan                    & 2096.154                     & 531.84311                   \\\\\n",
       "\t 591 Third Avenue \\#19B      & 1151                         & 2.0                          & 2                            & Condo                        & 40.74850                     & -73.97590                    & Murray Hill                  & 2305000                      & manhattan                    & 2002.606                     & 531.84311                   \\\\\n",
       "\t 591 Third Avenue \\#10A      & 1077                         & 2.0                          & 2                            & Condo                        & 40.74850                     & -73.97590                    & Murray Hill                  & 2100000                      & manhattan                    & 1949.861                     & 531.84311                   \\\\\n",
       "\t 336 E 54th Street \\#4A      &  798                         & 1.0                          & 1                            & Condo                        & 40.75660                     & -73.96540                    & Sutton Place                 & 1762500                      & manhattan                    & 2208.647                     & 255.34596                   \\\\\n",
       "\t 591 Third Avenue \\#3C       & 1111                         & 2.0                          & 2                            & Condo                        & 40.74850                     & -73.97590                    & Murray Hill                  & 1900000                      & manhattan                    & 1710.171                     & 531.84311                   \\\\\n",
       "\t 215 West 88th Street \\#9F   & 2132                         & 3.0                          & 3                            & Condo                        & 40.78949                     & -73.97497                    & Upper West Side              & 4250000                      & manhattan                    & 1993.433                     & 306.97173                   \\\\\n",
       "\t 5 Beekman Street \\#47B      & 1572                         & 2.5                          & 2                            & Condo                        & 40.71120                     & -74.00690                    & Fulton/Seaport               & 3975000                      & manhattan                    & 2528.626                     & 573.47219                   \\\\\n",
       "\t 591 Third Avenue \\#18C      &  881                         & 1.0                          & 1                            & Condo                        & 40.74850                     & -73.97590                    & Murray Hill                  & 1690000                      & manhattan                    & 1918.275                     & 531.84311                   \\\\\n",
       "\t 591 Third Avenue \\#15C      &  737                         & 1.0                          & 1                            & Condo                        & 40.74850                     & -73.97590                    & Murray Hill                  & 1505000                      & manhattan                    & 2042.062                     & 531.84311                   \\\\\n",
       "\t ... & ... & ... & ... & ... & ... & ... & ... & ... & ... & ... & ...\\\\\n",
       "\t 68-61 Yellowstone Boulevard \\#115     & 1200                                   & 1.5                                    & 2                                      & Co-op                                  & 40.7250                                & -73.8467                               & Forest Hills                           &  475000                                & queens                                 &  395.8333                              & 5998.09026                            \\\\\n",
       "\t 4-74 48th Avenue \\#30F                &  863                                   & 1.0                                    & 1                                      & Condop                                 & 40.7442                                & -73.9568                               & Hunters Point                          &  665000                                & queens                                 &  770.5678                              &   49.68559                            \\\\\n",
       "\t 4-74 48th Avenue \\#27F                &  863                                   & 1.0                                    & 1                                      & Condop                                 & 40.7445                                & -73.9565                               & Hunters Point                          &  648000                                & queens                                 &  750.8691                              &   47.64825                            \\\\\n",
       "\t 70 Greenway South                    & 4656                                 & 5.0                                  & 6                                    & House                                & 40.7146                              & -73.8444                             & Forest Hills                         & 3750000                              & queens                               &  805.4124                            & 7227.21544                          \\\\\n",
       "\t 97-07 63rd Road \\#8F                  &  780                                   & 1.0                                    & 1                                      & Co-op                                  & 40.7323                                & -73.8599                               & Rego Park                              &  253000                                & queens                                 &  324.3590                              & 5325.71505                            \\\\\n",
       "\t 42-60 Crescent Street \\#7C            & 1088                                   & 2.0                                    & 2                                      & Condo                                  & 40.7491                                & -73.9422                               & Hunters Point                          & 1260000                                & queens                                 & 1158.0882                              &  504.27642                            \\\\\n",
       "\t 67-76 Booth \\#1K                      & 1100                                   & 2.0                                    & 2                                      & Condo                                  & 40.7245                                & -73.8521                               & Forest Hills                           &  529000                                & queens                                 &  480.9091                              & 6177.81399                            \\\\\n",
       "\t 36 Wendover \\#1                       & 6000                                   & 5.5                                    & 7                                      & House                                  & 40.7119                                & -73.8392                               & Forest Hills                           & 5300000                                & queens                                 &  883.3333                              & 7435.36284                            \\\\\n",
       "\t 10-63 Jackson Avenue \\#7E             &  625                                   & 1.0                                    & 1                                      & Condo                                  & 40.7429                                & -73.9524                               & Hunters Point                          &  750000                                & queens                                 & 1200.0000                              &  250.37880                            \\\\\n",
       "\t 61-05 39th Avenue \\#4F                &  854                                   & 1.0                                    & 1                                      & Condo                                  & 40.7473                                & -73.9022                               & Woodside                               &  588000                                & queens                                 &  688.5246                              & 2750.76155                            \\\\\n",
       "\t 4-74 48th Avenue \\#PH2E               & 1005                                   & 2.0                                    & 2                                      & Condop                                 & 40.7442                                & -73.9568                               & Hunters Point                          &  890000                                & queens                                 &  885.5721                              &   49.68559                            \\\\\n",
       "\t 11-02 49th Avenue \\#10A               & 1800                                   & 3.0                                    & 3                                      & Condo                                  & 40.7423                                & -73.9510                               & Hunters Point                          & 1885000                                & queens                                 & 1047.2222                              &  355.07130                            \\\\\n",
       "\t 81 Puritan Avenue                    & 3654                                 & 4.5                                  & 5                                    & House                                & 40.7141                              & -73.8407                             & Forest Hills                         & 2899000                              & queens                               &  793.3771                            & 7198.44295                          \\\\\n",
       "\t 112-02 Northern Boulevard \\#5E        & 1143                                   & 2.0                                    & 2                                      & Condo                                  & 40.7578                                & -73.8573                               & North Corona                           &  665000                                & queens                                 &  581.8023                              & 2209.96927                            \\\\\n",
       "\t 112-02 Northern Boulevard \\#5F        & 1185                                   & 2.0                                    & 2                                      & Condo                                  & 40.7578                                & -73.8573                               & North Corona                           &  665000                                & queens                                 &  561.1814                              & 2209.96927                            \\\\\n",
       "\t 102-11 Remington Street              & 2027                                 & 3.0                                  & 7                                    & House                                & 40.6932                              & -73.8101                             & South Jamaica                        &  460000                              & queens                               &  226.9364                            & 6205.06400                          \\\\\n",
       "\t 27-28 Thomson Avenue \\#350            & 1901                                   & 2.5                                    & 2                                      & Condo                                  & 40.7457                                & -73.9418                               & Hunters Point                          & 2399000                                & queens                                 & 1261.9674                              &  688.54031                            \\\\\n",
       "\t 25-26 78th Street                    & 1723                                 & 2.0                                  & 3                                    & Multi-family                         & 40.7619                              & -73.8906                             & Jackson Heights                      &  500000                              & queens                               &  290.1915                            & 2421.18574                          \\\\\n",
       "\t Two Bay Club Drive \\#18A              & 1134                                   & 2.0                                    & 2                                      & Condo                                  & 40.7783                                & -73.7811                               & Bay Terrace (Queens)                   &  899000                                & queens                                 &  792.7690                              & 1330.66793                            \\\\\n",
       "\t 240-34 70th Avenue \\#15B              & 1050                                   & 2.0                                    & 3                                      & Condo                                  & 40.7493                                & -73.7369                               & Little Neck                            &  438000                                & queens                                 &  417.1429                              & 2471.35039                            \\\\\n",
       "\t 86-10 34th Avenue \\#116               &  950                                   & 1.0                                    & 2                                      & Co-op                                  & 40.7539                                & -73.8808                               & Jackson Heights                        &  575000                                & queens                                 &  605.2632                              & 3064.55987                            \\\\\n",
       "\t 27-21 44th Dr \\#2203                  &  648                                   & 1.0                                    & 1                                      & Condo                                  & 40.7466                                & -73.9416                               & Hunters Point                          &  890000                                & queens                                 & 1373.4568                              &  656.53261                            \\\\\n",
       "\t 40-26 College Point Boulevard \\#1/11P & 1111                                   & 2.0                                    & 2                                      & Condo                                  & 40.7588                                & -73.8341                               & Flushing                               &  687500                                & queens                                 &  618.8119                              & 2300.48873                            \\\\\n",
       "\t 109-26 Saultell Avenue               & 2166                                 & 2.0                                  & 3                                    & House                                & 40.7386                              & -73.8504                             & Corona                               &  449000                              & queens                               &  207.2946                            & 4407.93810                          \\\\\n",
       "\t 11-02 49th Avenue \\#6O                & 1180                                   & 2.0                                    & 2                                      & Condo                                  & 40.7423                                & -73.9510                               & Hunters Point                          &  795000                                & queens                                 &  673.7288                              &  355.07130                            \\\\\n",
       "\t 11-02 49th Avenue \\#10N               &  737                                   & 1.0                                    & 1                                      & Condo                                  & 40.7423                                & -73.9510                               & Hunters Point                          &  540000                                & queens                                 &  732.7001                              &  355.07130                            \\\\\n",
       "\t 50-09 2nd Street \\#608                & 1186                                   & 1.5                                    & 1                                      & Condo                                  & 40.7429                                & -73.9579                               & Hunters Point                          & 1010000                                & queens                                 &  851.6020                              &   76.06182                            \\\\\n",
       "\t 11-02 49th Avenue \\#3N                &  737                                   & 1.0                                    & 1                                      & Condo                                  & 40.7423                                & -73.9510                               & Hunters Point                          &  450000                                & queens                                 &  610.5834                              &  355.07130                            \\\\\n",
       "\t 11-02 49th Avenue \\#4D                & 1198                                   & 2.0                                    & 2                                      & Condo                                  & 40.7423                                & -73.9510                               & Hunters Point                          &  845000                                & queens                                 &  705.3422                              &  355.07130                            \\\\\n",
       "\t 120 Fifth Avenue \\#12F                & 3200                                   & 4.0                                    & 7                                      & Condo                                  & 40.7941                                & -73.8260                               & Malba                                  &  995000                                & queens                                 &  310.9375                              &  116.53392                            \\\\\n",
       "\\end{tabular}\n"
      ],
      "text/markdown": [
       "\n",
       "address | area | baths | beds | buildingtype | latitude | longitude | neighborhood | price | borough | pricearea | coastdist | \n",
       "|---|---|---|---|---|---|---|---|---|---|---|---|---|---|---|---|---|---|---|---|---|---|---|---|---|---|---|---|---|---|---|---|---|---|---|---|---|---|---|---|---|---|---|---|---|---|---|---|---|---|---|---|---|---|---|---|---|---|---|---|---|\n",
       "| 56 Walker Street #2        | 2670                       | 3.5                        | 3                          | Condo                      | 40.71900                   | -74.00320                  | Tribeca                    | 5600000                    | manhattan                  | 2097.378                   | 746.61028                  | \n",
       "| 201 East 62nd Street #5A   | 2240                       | 3.5                        | 3                          | Co-op                      | 40.76350                   | -73.96480                  | Lenox Hill                 | 2595000                    | manhattan                  | 1158.482                   | 501.93385                  | \n",
       "| 333 West 56th Street #2    |  820                       | 1.0                        | 1                          | Condo                      | 40.76700                   | -73.98490                  | Hell's Kitchen             |  995000                    | manhattan                  | 1213.415                   | 598.44922                  | \n",
       "| 330 East 38th Street #20P  |  884                       | 1.5                        | 1                          | Condo                      | 40.74630                   | -73.97270                  | Murray Hill                | 1225000                    | manhattan                  | 1385.747                   | 257.25204                  | \n",
       "| 322 West 57th Street #55U  | 1599                       | 2.0                        | 2                          | Condo                      | 40.76680                   | -73.98420                  | Hell's Kitchen             | 4595000                    | manhattan                  | 2873.671                   | 647.07872                  | \n",
       "| 408 Eighth Avenue #3C      |  712                       | 1.0                        | 1                          | Condo                      | 40.74980                   | -73.99480                  | Midtown South              | 1099000                    | manhattan                  | 1543.539                   | 691.42652                  | \n",
       "| 151 East 85th Street #12H  | 1646                       | 2.5                        | 2                          | Condo                      | 40.77910                   | -73.95540                  | Upper East Side            | 3095000                    | manhattan                  | 1880.316                   | 594.59617                  | \n",
       "| 30 Park Place #48B         | 1664                       | 2.5                        | 2                          | Condo                      | 40.71278                   | -74.00903                  | Tribeca                    | 4520000                    | manhattan                  | 2716.346                   | 404.38246                  | \n",
       "| 438 East 12th Street #5R   | 1604                       | 3.0                        | 3                          | Condo                      | 40.72900                   | -73.98210                  | East Village               | 3450000                    | manhattan                  | 2150.873                   | 701.18010                  | \n",
       "| 80 Riverside Boulevard #9P | 1850                       | 3.0                        | 3                          | Condo                      | 40.77550                   | -73.98850                  | Lincoln Square             | 3695000                    | manhattan                  | 1997.297                   |  42.81556                  | \n",
       "| 330 East 38th Street #7J   |  903                       | 1.0                        | 1                          | Condo                      | 40.74630                   | -73.97270                  | Murray Hill                | 1270000                    | manhattan                  | 1406.423                   | 257.25204                  | \n",
       "| 205 West End Avenue #10M   |  900                       | 1.0                        | 1                          | Co-op                      | 40.77850                   | -73.98660                  | Lincoln Square             |  939000                    | manhattan                  | 1043.333                   |  29.84797                  | \n",
       "| 161 Maiden Ln #37A         | 1311                       | 2.0                        | 2                          | Condo                      | 40.70550                   | -74.00480                  | Financial District         | 3025000                    | manhattan                  | 2307.399                   | 196.27509                  | \n",
       "| 515 East 79th Street #5B   | 1150                       | 2.5                        | 2                          | Co-op                      | 40.77100                   | -73.94880                  | Yorkville                  | 1250000                    | manhattan                  | 1086.957                   | 116.95186                  | \n",
       "| 345 East 80th Street #8F   |  929                       | 1.0                        | 2                          | Condo                      | 40.77350                   | -73.95230                  | Yorkville                  | 1179000                    | manhattan                  | 1269.107                   | 187.31059                  | \n",
       "| 345 East 80th Street #8E   |  622                       | 1.0                        | 1                          | Condo                      | 40.77350                   | -73.95230                  | Yorkville                  |  789000                    | manhattan                  | 1268.489                   | 187.31059                  | \n",
       "| 311 West Broadway #3I      | 1745                       | 2.5                        | 2                          | Condo                      | 40.72150                   | -74.00370                  | Soho                       | 3500000                    | manhattan                  | 2005.731                   | 682.58329                  | \n",
       "| 180 W 58th Street #9B      | 1100                       | 1.0                        | 1                          | Co-op                      | 40.76580                   | -73.97930                  | Midtown                    | 1675000                    | manhattan                  | 1522.727                   | 970.68942                  | \n",
       "| 188 East 70th Street #6E   |  730                       | 2.0                        | 1                          | Condo                      | 40.76840                   | -73.96200                  | Lenox Hill                 | 1195000                    | manhattan                  | 1636.986                   | 539.81339                  | \n",
       "| 283 East 4th Street #5A    |  444                       | 1.0                        | 1                          | Co-op                      | 40.72280                   | -73.98080                  | East Village               |  450000                    | manhattan                  | 1013.514                   | 499.80291                  | \n",
       "| 591 Third Avenue #17A      | 1457                       | 2.0                        | 3                          | Condo                      | 40.74850                   | -73.97590                  | Murray Hill                | 2900000                    | manhattan                  | 1990.391                   | 531.84311                  | \n",
       "| 591 Third Avenue #20A      | 1300                       | 2.0                        | 2                          | Condo                      | 40.74850                   | -73.97590                  | Murray Hill                | 2725000                    | manhattan                  | 2096.154                   | 531.84311                  | \n",
       "| 591 Third Avenue #19B      | 1151                       | 2.0                        | 2                          | Condo                      | 40.74850                   | -73.97590                  | Murray Hill                | 2305000                    | manhattan                  | 2002.606                   | 531.84311                  | \n",
       "| 591 Third Avenue #10A      | 1077                       | 2.0                        | 2                          | Condo                      | 40.74850                   | -73.97590                  | Murray Hill                | 2100000                    | manhattan                  | 1949.861                   | 531.84311                  | \n",
       "| 336 E 54th Street #4A      |  798                       | 1.0                        | 1                          | Condo                      | 40.75660                   | -73.96540                  | Sutton Place               | 1762500                    | manhattan                  | 2208.647                   | 255.34596                  | \n",
       "| 591 Third Avenue #3C       | 1111                       | 2.0                        | 2                          | Condo                      | 40.74850                   | -73.97590                  | Murray Hill                | 1900000                    | manhattan                  | 1710.171                   | 531.84311                  | \n",
       "| 215 West 88th Street #9F   | 2132                       | 3.0                        | 3                          | Condo                      | 40.78949                   | -73.97497                  | Upper West Side            | 4250000                    | manhattan                  | 1993.433                   | 306.97173                  | \n",
       "| 5 Beekman Street #47B      | 1572                       | 2.5                        | 2                          | Condo                      | 40.71120                   | -74.00690                  | Fulton/Seaport             | 3975000                    | manhattan                  | 2528.626                   | 573.47219                  | \n",
       "| 591 Third Avenue #18C      |  881                       | 1.0                        | 1                          | Condo                      | 40.74850                   | -73.97590                  | Murray Hill                | 1690000                    | manhattan                  | 1918.275                   | 531.84311                  | \n",
       "| 591 Third Avenue #15C      |  737                       | 1.0                        | 1                          | Condo                      | 40.74850                   | -73.97590                  | Murray Hill                | 1505000                    | manhattan                  | 2042.062                   | 531.84311                  | \n",
       "| ... | ... | ... | ... | ... | ... | ... | ... | ... | ... | ... | ... | \n",
       "| 68-61 Yellowstone Boulevard #115     | 1200                                 | 1.5                                  | 2                                    | Co-op                                | 40.7250                              | -73.8467                             | Forest Hills                         |  475000                              | queens                               |  395.8333                            | 5998.09026                           | \n",
       "| 4-74 48th Avenue #30F                |  863                                 | 1.0                                  | 1                                    | Condop                               | 40.7442                              | -73.9568                             | Hunters Point                        |  665000                              | queens                               |  770.5678                            |   49.68559                           | \n",
       "| 4-74 48th Avenue #27F                |  863                                 | 1.0                                  | 1                                    | Condop                               | 40.7445                              | -73.9565                             | Hunters Point                        |  648000                              | queens                               |  750.8691                            |   47.64825                           | \n",
       "| 70 Greenway South                    | 4656                                 | 5.0                                  | 6                                    | House                                | 40.7146                              | -73.8444                             | Forest Hills                         | 3750000                              | queens                               |  805.4124                            | 7227.21544                           | \n",
       "| 97-07 63rd Road #8F                  |  780                                 | 1.0                                  | 1                                    | Co-op                                | 40.7323                              | -73.8599                             | Rego Park                            |  253000                              | queens                               |  324.3590                            | 5325.71505                           | \n",
       "| 42-60 Crescent Street #7C            | 1088                                 | 2.0                                  | 2                                    | Condo                                | 40.7491                              | -73.9422                             | Hunters Point                        | 1260000                              | queens                               | 1158.0882                            |  504.27642                           | \n",
       "| 67-76 Booth #1K                      | 1100                                 | 2.0                                  | 2                                    | Condo                                | 40.7245                              | -73.8521                             | Forest Hills                         |  529000                              | queens                               |  480.9091                            | 6177.81399                           | \n",
       "| 36 Wendover #1                       | 6000                                 | 5.5                                  | 7                                    | House                                | 40.7119                              | -73.8392                             | Forest Hills                         | 5300000                              | queens                               |  883.3333                            | 7435.36284                           | \n",
       "| 10-63 Jackson Avenue #7E             |  625                                 | 1.0                                  | 1                                    | Condo                                | 40.7429                              | -73.9524                             | Hunters Point                        |  750000                              | queens                               | 1200.0000                            |  250.37880                           | \n",
       "| 61-05 39th Avenue #4F                |  854                                 | 1.0                                  | 1                                    | Condo                                | 40.7473                              | -73.9022                             | Woodside                             |  588000                              | queens                               |  688.5246                            | 2750.76155                           | \n",
       "| 4-74 48th Avenue #PH2E               | 1005                                 | 2.0                                  | 2                                    | Condop                               | 40.7442                              | -73.9568                             | Hunters Point                        |  890000                              | queens                               |  885.5721                            |   49.68559                           | \n",
       "| 11-02 49th Avenue #10A               | 1800                                 | 3.0                                  | 3                                    | Condo                                | 40.7423                              | -73.9510                             | Hunters Point                        | 1885000                              | queens                               | 1047.2222                            |  355.07130                           | \n",
       "| 81 Puritan Avenue                    | 3654                                 | 4.5                                  | 5                                    | House                                | 40.7141                              | -73.8407                             | Forest Hills                         | 2899000                              | queens                               |  793.3771                            | 7198.44295                           | \n",
       "| 112-02 Northern Boulevard #5E        | 1143                                 | 2.0                                  | 2                                    | Condo                                | 40.7578                              | -73.8573                             | North Corona                         |  665000                              | queens                               |  581.8023                            | 2209.96927                           | \n",
       "| 112-02 Northern Boulevard #5F        | 1185                                 | 2.0                                  | 2                                    | Condo                                | 40.7578                              | -73.8573                             | North Corona                         |  665000                              | queens                               |  561.1814                            | 2209.96927                           | \n",
       "| 102-11 Remington Street              | 2027                                 | 3.0                                  | 7                                    | House                                | 40.6932                              | -73.8101                             | South Jamaica                        |  460000                              | queens                               |  226.9364                            | 6205.06400                           | \n",
       "| 27-28 Thomson Avenue #350            | 1901                                 | 2.5                                  | 2                                    | Condo                                | 40.7457                              | -73.9418                             | Hunters Point                        | 2399000                              | queens                               | 1261.9674                            |  688.54031                           | \n",
       "| 25-26 78th Street                    | 1723                                 | 2.0                                  | 3                                    | Multi-family                         | 40.7619                              | -73.8906                             | Jackson Heights                      |  500000                              | queens                               |  290.1915                            | 2421.18574                           | \n",
       "| Two Bay Club Drive #18A              | 1134                                 | 2.0                                  | 2                                    | Condo                                | 40.7783                              | -73.7811                             | Bay Terrace (Queens)                 |  899000                              | queens                               |  792.7690                            | 1330.66793                           | \n",
       "| 240-34 70th Avenue #15B              | 1050                                 | 2.0                                  | 3                                    | Condo                                | 40.7493                              | -73.7369                             | Little Neck                          |  438000                              | queens                               |  417.1429                            | 2471.35039                           | \n",
       "| 86-10 34th Avenue #116               |  950                                 | 1.0                                  | 2                                    | Co-op                                | 40.7539                              | -73.8808                             | Jackson Heights                      |  575000                              | queens                               |  605.2632                            | 3064.55987                           | \n",
       "| 27-21 44th Dr #2203                  |  648                                 | 1.0                                  | 1                                    | Condo                                | 40.7466                              | -73.9416                             | Hunters Point                        |  890000                              | queens                               | 1373.4568                            |  656.53261                           | \n",
       "| 40-26 College Point Boulevard #1/11P | 1111                                 | 2.0                                  | 2                                    | Condo                                | 40.7588                              | -73.8341                             | Flushing                             |  687500                              | queens                               |  618.8119                            | 2300.48873                           | \n",
       "| 109-26 Saultell Avenue               | 2166                                 | 2.0                                  | 3                                    | House                                | 40.7386                              | -73.8504                             | Corona                               |  449000                              | queens                               |  207.2946                            | 4407.93810                           | \n",
       "| 11-02 49th Avenue #6O                | 1180                                 | 2.0                                  | 2                                    | Condo                                | 40.7423                              | -73.9510                             | Hunters Point                        |  795000                              | queens                               |  673.7288                            |  355.07130                           | \n",
       "| 11-02 49th Avenue #10N               |  737                                 | 1.0                                  | 1                                    | Condo                                | 40.7423                              | -73.9510                             | Hunters Point                        |  540000                              | queens                               |  732.7001                            |  355.07130                           | \n",
       "| 50-09 2nd Street #608                | 1186                                 | 1.5                                  | 1                                    | Condo                                | 40.7429                              | -73.9579                             | Hunters Point                        | 1010000                              | queens                               |  851.6020                            |   76.06182                           | \n",
       "| 11-02 49th Avenue #3N                |  737                                 | 1.0                                  | 1                                    | Condo                                | 40.7423                              | -73.9510                             | Hunters Point                        |  450000                              | queens                               |  610.5834                            |  355.07130                           | \n",
       "| 11-02 49th Avenue #4D                | 1198                                 | 2.0                                  | 2                                    | Condo                                | 40.7423                              | -73.9510                             | Hunters Point                        |  845000                              | queens                               |  705.3422                            |  355.07130                           | \n",
       "| 120 Fifth Avenue #12F                | 3200                                 | 4.0                                  | 7                                    | Condo                                | 40.7941                              | -73.8260                             | Malba                                |  995000                              | queens                               |  310.9375                            |  116.53392                           | \n",
       "\n",
       "\n"
      ],
      "text/plain": [
       "      address                              area baths beds buildingtype\n",
       "1     56 Walker Street #2                  2670 3.5   3    Condo       \n",
       "2     201 East 62nd Street #5A             2240 3.5   3    Co-op       \n",
       "3     333 West 56th Street #2               820 1.0   1    Condo       \n",
       "4     330 East 38th Street #20P             884 1.5   1    Condo       \n",
       "5     322 West 57th Street #55U            1599 2.0   2    Condo       \n",
       "6     408 Eighth Avenue #3C                 712 1.0   1    Condo       \n",
       "7     151 East 85th Street #12H            1646 2.5   2    Condo       \n",
       "8     30 Park Place #48B                   1664 2.5   2    Condo       \n",
       "9     438 East 12th Street #5R             1604 3.0   3    Condo       \n",
       "10    80 Riverside Boulevard #9P           1850 3.0   3    Condo       \n",
       "11    330 East 38th Street #7J              903 1.0   1    Condo       \n",
       "12    205 West End Avenue #10M              900 1.0   1    Co-op       \n",
       "13    161 Maiden Ln #37A                   1311 2.0   2    Condo       \n",
       "14    515 East 79th Street #5B             1150 2.5   2    Co-op       \n",
       "15    345 East 80th Street #8F              929 1.0   2    Condo       \n",
       "16    345 East 80th Street #8E              622 1.0   1    Condo       \n",
       "17    311 West Broadway #3I                1745 2.5   2    Condo       \n",
       "18    180 W 58th Street #9B                1100 1.0   1    Co-op       \n",
       "19    188 East 70th Street #6E              730 2.0   1    Condo       \n",
       "20    283 East 4th Street #5A               444 1.0   1    Co-op       \n",
       "21    591 Third Avenue #17A                1457 2.0   3    Condo       \n",
       "22    591 Third Avenue #20A                1300 2.0   2    Condo       \n",
       "23    591 Third Avenue #19B                1151 2.0   2    Condo       \n",
       "24    591 Third Avenue #10A                1077 2.0   2    Condo       \n",
       "25    336 E 54th Street #4A                 798 1.0   1    Condo       \n",
       "26    591 Third Avenue #3C                 1111 2.0   2    Condo       \n",
       "27    215 West 88th Street #9F             2132 3.0   3    Condo       \n",
       "28    5 Beekman Street #47B                1572 2.5   2    Condo       \n",
       "29    591 Third Avenue #18C                 881 1.0   1    Condo       \n",
       "30    591 Third Avenue #15C                 737 1.0   1    Condo       \n",
       "...   ...                                  ...  ...   ...  ...         \n",
       "15269 68-61 Yellowstone Boulevard #115     1200 1.5   2    Co-op       \n",
       "15270 4-74 48th Avenue #30F                 863 1.0   1    Condop      \n",
       "15271 4-74 48th Avenue #27F                 863 1.0   1    Condop      \n",
       "15272 70 Greenway South                    4656 5.0   6    House       \n",
       "15273 97-07 63rd Road #8F                   780 1.0   1    Co-op       \n",
       "15274 42-60 Crescent Street #7C            1088 2.0   2    Condo       \n",
       "15275 67-76 Booth #1K                      1100 2.0   2    Condo       \n",
       "15276 36 Wendover #1                       6000 5.5   7    House       \n",
       "15277 10-63 Jackson Avenue #7E              625 1.0   1    Condo       \n",
       "15278 61-05 39th Avenue #4F                 854 1.0   1    Condo       \n",
       "15279 4-74 48th Avenue #PH2E               1005 2.0   2    Condop      \n",
       "15280 11-02 49th Avenue #10A               1800 3.0   3    Condo       \n",
       "15281 81 Puritan Avenue                    3654 4.5   5    House       \n",
       "15282 112-02 Northern Boulevard #5E        1143 2.0   2    Condo       \n",
       "15283 112-02 Northern Boulevard #5F        1185 2.0   2    Condo       \n",
       "15284 102-11 Remington Street              2027 3.0   7    House       \n",
       "15285 27-28 Thomson Avenue #350            1901 2.5   2    Condo       \n",
       "15286 25-26 78th Street                    1723 2.0   3    Multi-family\n",
       "15287 Two Bay Club Drive #18A              1134 2.0   2    Condo       \n",
       "15288 240-34 70th Avenue #15B              1050 2.0   3    Condo       \n",
       "15289 86-10 34th Avenue #116                950 1.0   2    Co-op       \n",
       "15290 27-21 44th Dr #2203                   648 1.0   1    Condo       \n",
       "15291 40-26 College Point Boulevard #1/11P 1111 2.0   2    Condo       \n",
       "15292 109-26 Saultell Avenue               2166 2.0   3    House       \n",
       "15293 11-02 49th Avenue #6O                1180 2.0   2    Condo       \n",
       "15294 11-02 49th Avenue #10N                737 1.0   1    Condo       \n",
       "15295 50-09 2nd Street #608                1186 1.5   1    Condo       \n",
       "15296 11-02 49th Avenue #3N                 737 1.0   1    Condo       \n",
       "15297 11-02 49th Avenue #4D                1198 2.0   2    Condo       \n",
       "15298 120 Fifth Avenue #12F                3200 4.0   7    Condo       \n",
       "      latitude longitude neighborhood         price   borough   pricearea\n",
       "1     40.71900 -74.00320 Tribeca              5600000 manhattan 2097.378 \n",
       "2     40.76350 -73.96480 Lenox Hill           2595000 manhattan 1158.482 \n",
       "3     40.76700 -73.98490 Hell's Kitchen        995000 manhattan 1213.415 \n",
       "4     40.74630 -73.97270 Murray Hill          1225000 manhattan 1385.747 \n",
       "5     40.76680 -73.98420 Hell's Kitchen       4595000 manhattan 2873.671 \n",
       "6     40.74980 -73.99480 Midtown South        1099000 manhattan 1543.539 \n",
       "7     40.77910 -73.95540 Upper East Side      3095000 manhattan 1880.316 \n",
       "8     40.71278 -74.00903 Tribeca              4520000 manhattan 2716.346 \n",
       "9     40.72900 -73.98210 East Village         3450000 manhattan 2150.873 \n",
       "10    40.77550 -73.98850 Lincoln Square       3695000 manhattan 1997.297 \n",
       "11    40.74630 -73.97270 Murray Hill          1270000 manhattan 1406.423 \n",
       "12    40.77850 -73.98660 Lincoln Square        939000 manhattan 1043.333 \n",
       "13    40.70550 -74.00480 Financial District   3025000 manhattan 2307.399 \n",
       "14    40.77100 -73.94880 Yorkville            1250000 manhattan 1086.957 \n",
       "15    40.77350 -73.95230 Yorkville            1179000 manhattan 1269.107 \n",
       "16    40.77350 -73.95230 Yorkville             789000 manhattan 1268.489 \n",
       "17    40.72150 -74.00370 Soho                 3500000 manhattan 2005.731 \n",
       "18    40.76580 -73.97930 Midtown              1675000 manhattan 1522.727 \n",
       "19    40.76840 -73.96200 Lenox Hill           1195000 manhattan 1636.986 \n",
       "20    40.72280 -73.98080 East Village          450000 manhattan 1013.514 \n",
       "21    40.74850 -73.97590 Murray Hill          2900000 manhattan 1990.391 \n",
       "22    40.74850 -73.97590 Murray Hill          2725000 manhattan 2096.154 \n",
       "23    40.74850 -73.97590 Murray Hill          2305000 manhattan 2002.606 \n",
       "24    40.74850 -73.97590 Murray Hill          2100000 manhattan 1949.861 \n",
       "25    40.75660 -73.96540 Sutton Place         1762500 manhattan 2208.647 \n",
       "26    40.74850 -73.97590 Murray Hill          1900000 manhattan 1710.171 \n",
       "27    40.78949 -73.97497 Upper West Side      4250000 manhattan 1993.433 \n",
       "28    40.71120 -74.00690 Fulton/Seaport       3975000 manhattan 2528.626 \n",
       "29    40.74850 -73.97590 Murray Hill          1690000 manhattan 1918.275 \n",
       "30    40.74850 -73.97590 Murray Hill          1505000 manhattan 2042.062 \n",
       "...   ...      ...       ...                  ...     ...       ...      \n",
       "15269 40.7250  -73.8467  Forest Hills          475000 queens     395.8333\n",
       "15270 40.7442  -73.9568  Hunters Point         665000 queens     770.5678\n",
       "15271 40.7445  -73.9565  Hunters Point         648000 queens     750.8691\n",
       "15272 40.7146  -73.8444  Forest Hills         3750000 queens     805.4124\n",
       "15273 40.7323  -73.8599  Rego Park             253000 queens     324.3590\n",
       "15274 40.7491  -73.9422  Hunters Point        1260000 queens    1158.0882\n",
       "15275 40.7245  -73.8521  Forest Hills          529000 queens     480.9091\n",
       "15276 40.7119  -73.8392  Forest Hills         5300000 queens     883.3333\n",
       "15277 40.7429  -73.9524  Hunters Point         750000 queens    1200.0000\n",
       "15278 40.7473  -73.9022  Woodside              588000 queens     688.5246\n",
       "15279 40.7442  -73.9568  Hunters Point         890000 queens     885.5721\n",
       "15280 40.7423  -73.9510  Hunters Point        1885000 queens    1047.2222\n",
       "15281 40.7141  -73.8407  Forest Hills         2899000 queens     793.3771\n",
       "15282 40.7578  -73.8573  North Corona          665000 queens     581.8023\n",
       "15283 40.7578  -73.8573  North Corona          665000 queens     561.1814\n",
       "15284 40.6932  -73.8101  South Jamaica         460000 queens     226.9364\n",
       "15285 40.7457  -73.9418  Hunters Point        2399000 queens    1261.9674\n",
       "15286 40.7619  -73.8906  Jackson Heights       500000 queens     290.1915\n",
       "15287 40.7783  -73.7811  Bay Terrace (Queens)  899000 queens     792.7690\n",
       "15288 40.7493  -73.7369  Little Neck           438000 queens     417.1429\n",
       "15289 40.7539  -73.8808  Jackson Heights       575000 queens     605.2632\n",
       "15290 40.7466  -73.9416  Hunters Point         890000 queens    1373.4568\n",
       "15291 40.7588  -73.8341  Flushing              687500 queens     618.8119\n",
       "15292 40.7386  -73.8504  Corona                449000 queens     207.2946\n",
       "15293 40.7423  -73.9510  Hunters Point         795000 queens     673.7288\n",
       "15294 40.7423  -73.9510  Hunters Point         540000 queens     732.7001\n",
       "15295 40.7429  -73.9579  Hunters Point        1010000 queens     851.6020\n",
       "15296 40.7423  -73.9510  Hunters Point         450000 queens     610.5834\n",
       "15297 40.7423  -73.9510  Hunters Point         845000 queens     705.3422\n",
       "15298 40.7941  -73.8260  Malba                 995000 queens     310.9375\n",
       "      coastdist \n",
       "1     746.61028 \n",
       "2     501.93385 \n",
       "3     598.44922 \n",
       "4     257.25204 \n",
       "5     647.07872 \n",
       "6     691.42652 \n",
       "7     594.59617 \n",
       "8     404.38246 \n",
       "9     701.18010 \n",
       "10     42.81556 \n",
       "11    257.25204 \n",
       "12     29.84797 \n",
       "13    196.27509 \n",
       "14    116.95186 \n",
       "15    187.31059 \n",
       "16    187.31059 \n",
       "17    682.58329 \n",
       "18    970.68942 \n",
       "19    539.81339 \n",
       "20    499.80291 \n",
       "21    531.84311 \n",
       "22    531.84311 \n",
       "23    531.84311 \n",
       "24    531.84311 \n",
       "25    255.34596 \n",
       "26    531.84311 \n",
       "27    306.97173 \n",
       "28    573.47219 \n",
       "29    531.84311 \n",
       "30    531.84311 \n",
       "...   ...       \n",
       "15269 5998.09026\n",
       "15270   49.68559\n",
       "15271   47.64825\n",
       "15272 7227.21544\n",
       "15273 5325.71505\n",
       "15274  504.27642\n",
       "15275 6177.81399\n",
       "15276 7435.36284\n",
       "15277  250.37880\n",
       "15278 2750.76155\n",
       "15279   49.68559\n",
       "15280  355.07130\n",
       "15281 7198.44295\n",
       "15282 2209.96927\n",
       "15283 2209.96927\n",
       "15284 6205.06400\n",
       "15285  688.54031\n",
       "15286 2421.18574\n",
       "15287 1330.66793\n",
       "15288 2471.35039\n",
       "15289 3064.55987\n",
       "15290  656.53261\n",
       "15291 2300.48873\n",
       "15292 4407.93810\n",
       "15293  355.07130\n",
       "15294  355.07130\n",
       "15295   76.06182\n",
       "15296  355.07130\n",
       "15297  355.07130\n",
       "15298  116.53392"
      ]
     },
     "metadata": {},
     "output_type": "display_data"
    }
   ],
   "source": [
    "df$coastdist <- coastdistance\n",
    "df"
   ]
  },
  {
   "cell_type": "code",
   "execution_count": 15,
   "metadata": {
    "collapsed": true
   },
   "outputs": [],
   "source": [
    "write.csv(df, file = \"data2.csv\", row.names=FALSE)"
   ]
  },
  {
   "cell_type": "code",
   "execution_count": 17,
   "metadata": {
    "scrolled": true
   },
   "outputs": [
    {
     "data": {
      "text/html": [
       "<dl class=dl-horizontal>\n",
       "\t<dt>data</dt>\n",
       "\t\t<dd>'data.frame'</dd>\n",
       "\t<dt>polygons</dt>\n",
       "\t\t<dd>'list'</dd>\n",
       "\t<dt>plotOrder</dt>\n",
       "\t\t<dd>'integer'</dd>\n",
       "\t<dt>bbox</dt>\n",
       "\t\t<dd>'matrix'</dd>\n",
       "\t<dt>proj4string</dt>\n",
       "\t\t<dd>'CRS'</dd>\n",
       "</dl>\n"
      ],
      "text/latex": [
       "\\begin{description*}\n",
       "\\item[data] 'data.frame'\n",
       "\\item[polygons] 'list'\n",
       "\\item[plotOrder] 'integer'\n",
       "\\item[bbox] 'matrix'\n",
       "\\item[proj4string] 'CRS'\n",
       "\\end{description*}\n"
      ],
      "text/markdown": [
       "data\n",
       ":   'data.frame'polygons\n",
       ":   'list'plotOrder\n",
       ":   'integer'bbox\n",
       ":   'matrix'proj4string\n",
       ":   'CRS'\n",
       "\n"
      ],
      "text/plain": [
       "        data     polygons    plotOrder         bbox  proj4string \n",
       "\"data.frame\"       \"list\"    \"integer\"     \"matrix\"        \"CRS\" "
      ]
     },
     "metadata": {},
     "output_type": "display_data"
    }
   ],
   "source": [
    "# getSlots(\"SpatialPolygonsDataFrame\")"
   ]
  }
 ],
 "metadata": {
  "kernelspec": {
   "display_name": "R",
   "language": "R",
   "name": "ir"
  },
  "language_info": {
   "codemirror_mode": "r",
   "file_extension": ".r",
   "mimetype": "text/x-r-source",
   "name": "R",
   "pygments_lexer": "r",
   "version": "3.3.2"
  }
 },
 "nbformat": 4,
 "nbformat_minor": 2
}
